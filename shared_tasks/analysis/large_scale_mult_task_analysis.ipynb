{
 "cells": [
  {
   "cell_type": "code",
   "execution_count": 16,
   "id": "adverse-eleven",
   "metadata": {},
   "outputs": [],
   "source": [
    "import pandas as pd\n",
    "import re\n",
    "import datetime\n",
    "import json\n",
    "import itertools\n",
    "import matplotlib.pyplot as plt\n",
    "import seaborn as sns\n"
   ]
  },
  {
   "cell_type": "markdown",
   "id": "respective-austin",
   "metadata": {},
   "source": [
    "# Preprocessing"
   ]
  },
  {
   "cell_type": "code",
   "execution_count": 246,
   "id": "foreign-panel",
   "metadata": {},
   "outputs": [],
   "source": [
    "filename='../raw/flores_dynabench_raw_data'\n",
    "PROJECT_LABEL_REGEX_1 = (\n",
    "    r'.*/ts(?P<timestamp>\\d+)-(?P<modelname>.*)/flores_(?P<taskname>[a-z0-9]+)/.*-(?P<setname>[a-z0-9]+).jsonl.out'\n",
    ")"
   ]
  },
  {
   "cell_type": "code",
   "execution_count": 247,
   "id": "colonial-tradition",
   "metadata": {},
   "outputs": [],
   "source": [
    "\n",
    "with open(filename,'r') as file:\n",
    "    next(file)\n",
    "    data = []\n",
    "    for line in file:\n",
    "        mid,raw_output_s3_uri,pretty_perf, langs, perfs = line.split('\\t')\n",
    "        try:\n",
    "            match = re.match(PROJECT_LABEL_REGEX_1,raw_output_s3_uri)\n",
    "            timestamp = datetime.datetime.fromtimestamp(int(match.group('timestamp')))\n",
    "            taskname=match.group('taskname')\n",
    "            modelname=match.group('modelname')\n",
    "            setname=match.group('setname')\n",
    "            lgs = json.loads(langs)\n",
    "            prfs = [ float('{:.2f}'.format(float(x))) for x in json.loads(perfs.replace(' %',''))]\n",
    "            for lang_pair, perf in zip(lgs, prfs):\n",
    "                src,trg = lang_pair.split(\"-\")\n",
    "                data.append((int(mid), modelname, timestamp, setname, taskname, src, trg, perf))  \n",
    "        except e:\n",
    "            print(e)\n",
    "            print(raw_output_s3_uri)\n",
    "            break\n",
    "        \n",
    "    alldf = pd.DataFrame(data, columns=['mid', 'modelname', 'timestamp', 'setname', 'taskname', 'src', 'trg', 'perf'])"
   ]
  },
  {
   "cell_type": "code",
   "execution_count": 248,
   "id": "generic-consortium",
   "metadata": {},
   "outputs": [
    {
     "data": {
      "text/html": [
       "<div>\n",
       "<style scoped>\n",
       "    .dataframe tbody tr th:only-of-type {\n",
       "        vertical-align: middle;\n",
       "    }\n",
       "\n",
       "    .dataframe tbody tr th {\n",
       "        vertical-align: top;\n",
       "    }\n",
       "\n",
       "    .dataframe thead th {\n",
       "        text-align: right;\n",
       "    }\n",
       "</style>\n",
       "<table border=\"1\" class=\"dataframe\">\n",
       "  <thead>\n",
       "    <tr style=\"text-align: right;\">\n",
       "      <th></th>\n",
       "      <th>ISO 639-3</th>\n",
       "      <th>Language</th>\n",
       "      <th>Family</th>\n",
       "      <th>Subgrouping</th>\n",
       "      <th>Script</th>\n",
       "      <th>Bitext w/ En</th>\n",
       "      <th>Mono Data</th>\n",
       "    </tr>\n",
       "  </thead>\n",
       "  <tbody>\n",
       "    <tr>\n",
       "      <th>0</th>\n",
       "      <td>afr</td>\n",
       "      <td>Afrikaans</td>\n",
       "      <td>Indo-European</td>\n",
       "      <td>Germanic</td>\n",
       "      <td>Latin</td>\n",
       "      <td>570000.00</td>\n",
       "      <td>26100000.00</td>\n",
       "    </tr>\n",
       "    <tr>\n",
       "      <th>1</th>\n",
       "      <td>amh</td>\n",
       "      <td>Amharic</td>\n",
       "      <td>Afro-Asiatic</td>\n",
       "      <td>Afro-Asiatic</td>\n",
       "      <td>Ge'ez</td>\n",
       "      <td>339000.00</td>\n",
       "      <td>3020000.00</td>\n",
       "    </tr>\n",
       "    <tr>\n",
       "      <th>2</th>\n",
       "      <td>ara</td>\n",
       "      <td>Arabic</td>\n",
       "      <td>Afro-Asiatic</td>\n",
       "      <td>Afro-Asiatic</td>\n",
       "      <td>Arabic</td>\n",
       "      <td>25200000.00</td>\n",
       "      <td>126000000.00</td>\n",
       "    </tr>\n",
       "    <tr>\n",
       "      <th>3</th>\n",
       "      <td>hye</td>\n",
       "      <td>Armenian</td>\n",
       "      <td>Indo-European</td>\n",
       "      <td>Other IE</td>\n",
       "      <td>Armenian</td>\n",
       "      <td>977000.00</td>\n",
       "      <td>25400000.00</td>\n",
       "    </tr>\n",
       "    <tr>\n",
       "      <th>4</th>\n",
       "      <td>asm</td>\n",
       "      <td>Assamese</td>\n",
       "      <td>Indo-European</td>\n",
       "      <td>Indo-Aryan</td>\n",
       "      <td>Bengali</td>\n",
       "      <td>43700.00</td>\n",
       "      <td>738000.00</td>\n",
       "    </tr>\n",
       "    <tr>\n",
       "      <th>...</th>\n",
       "      <td>...</td>\n",
       "      <td>...</td>\n",
       "      <td>...</td>\n",
       "      <td>...</td>\n",
       "      <td>...</td>\n",
       "      <td>...</td>\n",
       "      <td>...</td>\n",
       "    </tr>\n",
       "    <tr>\n",
       "      <th>97</th>\n",
       "      <td>cym</td>\n",
       "      <td>Welsh</td>\n",
       "      <td>Indo-European</td>\n",
       "      <td>Other IE</td>\n",
       "      <td>Latin</td>\n",
       "      <td>826000.00</td>\n",
       "      <td>12700000.00</td>\n",
       "    </tr>\n",
       "    <tr>\n",
       "      <th>98</th>\n",
       "      <td>wol</td>\n",
       "      <td>Wolof</td>\n",
       "      <td>Atlantic-Congo</td>\n",
       "      <td>Nilotic+Other AC</td>\n",
       "      <td>Latin</td>\n",
       "      <td>86900.00</td>\n",
       "      <td>676000.00</td>\n",
       "    </tr>\n",
       "    <tr>\n",
       "      <th>99</th>\n",
       "      <td>xho</td>\n",
       "      <td>Xhosa</td>\n",
       "      <td>Atlantic-Congo</td>\n",
       "      <td>Bantu</td>\n",
       "      <td>Latin</td>\n",
       "      <td>130000.00</td>\n",
       "      <td>995000.00</td>\n",
       "    </tr>\n",
       "    <tr>\n",
       "      <th>100</th>\n",
       "      <td>yor</td>\n",
       "      <td>Yoruba</td>\n",
       "      <td>Atlantic-Congo</td>\n",
       "      <td>Nilotic+Other AC</td>\n",
       "      <td>Latin</td>\n",
       "      <td>171000.00</td>\n",
       "      <td>1590000.00</td>\n",
       "    </tr>\n",
       "    <tr>\n",
       "      <th>101</th>\n",
       "      <td>zul</td>\n",
       "      <td>Zulu</td>\n",
       "      <td>Atlantic-Congo</td>\n",
       "      <td>Bantu</td>\n",
       "      <td>Latin</td>\n",
       "      <td>123000.00</td>\n",
       "      <td>994000.00</td>\n",
       "    </tr>\n",
       "  </tbody>\n",
       "</table>\n",
       "<p>102 rows × 7 columns</p>\n",
       "</div>"
      ],
      "text/plain": [
       "    ISO 639-3   Language          Family       Subgrouping    Script  \\\n",
       "0         afr  Afrikaans   Indo-European          Germanic     Latin   \n",
       "1         amh    Amharic    Afro-Asiatic      Afro-Asiatic     Ge'ez   \n",
       "2         ara     Arabic    Afro-Asiatic      Afro-Asiatic    Arabic   \n",
       "3         hye   Armenian   Indo-European          Other IE  Armenian   \n",
       "4         asm   Assamese   Indo-European        Indo-Aryan   Bengali   \n",
       "..        ...        ...             ...               ...       ...   \n",
       "97        cym      Welsh   Indo-European          Other IE     Latin   \n",
       "98        wol      Wolof  Atlantic-Congo  Nilotic+Other AC     Latin   \n",
       "99        xho      Xhosa  Atlantic-Congo             Bantu     Latin   \n",
       "100       yor     Yoruba  Atlantic-Congo  Nilotic+Other AC     Latin   \n",
       "101       zul       Zulu  Atlantic-Congo             Bantu     Latin   \n",
       "\n",
       "     Bitext w/ En    Mono Data  \n",
       "0       570000.00  26100000.00  \n",
       "1       339000.00   3020000.00  \n",
       "2     25200000.00 126000000.00  \n",
       "3       977000.00  25400000.00  \n",
       "4        43700.00    738000.00  \n",
       "..            ...          ...  \n",
       "97      826000.00  12700000.00  \n",
       "98       86900.00    676000.00  \n",
       "99      130000.00    995000.00  \n",
       "100     171000.00   1590000.00  \n",
       "101     123000.00    994000.00  \n",
       "\n",
       "[102 rows x 7 columns]"
      ]
     },
     "execution_count": 248,
     "metadata": {},
     "output_type": "execute_result"
    }
   ],
   "source": [
    "from astropy.table import Table\n",
    "langnames = Table.read('../raw/flores_language_table.tex').to_pandas()\n",
    "langnames"
   ]
  },
  {
   "cell_type": "code",
   "execution_count": 249,
   "id": "devoted-lincoln",
   "metadata": {},
   "outputs": [
    {
     "data": {
      "text/plain": [
       "array(['test'], dtype=object)"
      ]
     },
     "execution_count": 249,
     "metadata": {},
     "output_type": "execute_result"
    }
   ],
   "source": [
    "df = alldf[alldf.setname == 'test']\n",
    "df.setname.unique()"
   ]
  },
  {
   "cell_type": "code",
   "execution_count": 250,
   "id": "impossible-participation",
   "metadata": {},
   "outputs": [
    {
     "data": {
      "text/plain": [
       "trg  taskname\n",
       "eng  full       28.43\n",
       "     small1     37.22\n",
       "     small2     31.72\n",
       "est  full       15.38\n",
       "     small1     26.30\n",
       "Name: perf, dtype: float64"
      ]
     },
     "execution_count": 250,
     "metadata": {},
     "output_type": "execute_result"
    }
   ],
   "source": [
    "df[(df.trg.isin(['eng','est']) ) & (df.setname == 'test')  ].groupby(['trg','taskname']).perf.mean()"
   ]
  },
  {
   "cell_type": "code",
   "execution_count": 251,
   "id": "drawn-vancouver",
   "metadata": {},
   "outputs": [
    {
     "data": {
      "text/plain": [
       "src\n",
       "afr        17.14\n",
       "amh        10.44\n",
       "ara        12.13\n",
       "asm         8.52\n",
       "ast        13.28\n",
       "            ... \n",
       "xho        10.14\n",
       "yor         3.11\n",
       "zho_simp   12.40\n",
       "zho_trad   11.87\n",
       "zul         9.77\n",
       "Name: perf, Length: 102, dtype: float64"
      ]
     },
     "execution_count": 251,
     "metadata": {},
     "output_type": "execute_result"
    }
   ],
   "source": [
    "df.groupby('src').perf.mean()"
   ]
  },
  {
   "cell_type": "code",
   "execution_count": 307,
   "id": "ignored-lindsay",
   "metadata": {},
   "outputs": [],
   "source": [
    "allp = {\n",
    "    'small2': [457,\n",
    "        441,\n",
    "        460,\n",
    "        445,\n",
    "        439,\n",
    "        443,\n",
    "        304,\n",
    "        297,\n",
    "        465,\n",
    "        449\n",
    "    ],\n",
    "    'small1':[\n",
    "        448,\n",
    "        440,\n",
    "        444,\n",
    "        113\n",
    "    ],\n",
    "    'full': [\n",
    "        438,\n",
    "        425,\n",
    "        292\n",
    "    ]\n",
    "}\n",
    "\n",
    "winners = {\n",
    "    'small2': \n",
    "        [457],\n",
    "    'small1':\n",
    "        [448],\n",
    "    'full': \n",
    "        [438],       \n",
    "}\n",
    "\n",
    "baselines = {\n",
    "    'small2': \n",
    "        [273],\n",
    "    'small1':\n",
    "        [309],\n",
    "    'full': \n",
    "        [292],       \n",
    "}\n",
    "\n",
    "languages = {\n",
    "    'full': ['afr', 'amh', 'ara', 'asm', 'ast', 'azj', 'bel', 'ben', 'bos',\n",
    "       'bul', 'cat', 'ceb', 'ces', 'ckb', 'cym', 'dan', 'deu', 'ell',\n",
    "       'eng', 'est', 'fas', 'fin', 'fra', 'ful', 'gle', 'glg', 'guj',\n",
    "       'hau', 'heb', 'hin', 'hrv', 'hun', 'hye', 'ibo', 'ind', 'isl',\n",
    "       'ita', 'jav', 'jpn', 'kam', 'kan', 'kat', 'kaz', 'kea', 'khm',\n",
    "       'kir', 'kor', 'lao', 'lav', 'lin', 'lit', 'ltz', 'lug', 'luo',\n",
    "       'mal', 'mar', 'mkd', 'mlt', 'mon', 'mri', 'msa', 'mya', 'npi',\n",
    "       'nld', 'nob', 'nso', 'nya', 'oci', 'orm', 'ory', 'pan', 'pol',\n",
    "       'por', 'pus', 'ron', 'rus', 'slk', 'slv', 'sna', 'snd', 'som',\n",
    "       'spa', 'srp', 'swe', 'swh', 'tam', 'tel', 'tgk', 'tgl', 'tha',\n",
    "       'tur', 'ukr', 'umb', 'urd', 'uzb', 'vie', 'wol', 'xho', 'yor',\n",
    "       'zho_simp', 'zho_trad', 'zul'],\n",
    "    'small1': ['eng', 'est', 'hrv', 'hun', 'mkd', 'srp'],\n",
    "    'small2': ['eng', 'ind', 'jav', 'msa', 'tam', 'tgl']\n",
    "}"
   ]
  },
  {
   "cell_type": "markdown",
   "id": "higher-pencil",
   "metadata": {},
   "source": [
    "# Overall latex table "
   ]
  },
  {
   "cell_type": "code",
   "execution_count": 308,
   "id": "psychological-setting",
   "metadata": {},
   "outputs": [
    {
     "name": "stdout",
     "output_type": "stream",
     "text": [
      "\\begin{tabular}{llr}\n",
      "\\toprule\n",
      "taskname &            modelname &  perf \\\\\n",
      "\\midrule\n",
      "    full &                large & 16.63 \\\\\n",
      "    full &             full-615 &  7.55 \\\\\n",
      "    full &         m2m-124-175m &  6.05 \\\\\n",
      "\\midrule\n",
      "  small1 &                task1 & 37.59 \\\\\n",
      "  small1 &           task1-615m & 34.96 \\\\\n",
      "  small1 &               lenpen & 31.86 \\\\\n",
      "  small1 &         m2m-124-175m & 21.33 \\\\\n",
      "\\midrule\n",
      "  small2 &                task2 & 33.89 \\\\\n",
      "  small2 &                bt615 & 33.34 \\\\\n",
      "  small2 &         flores-ft-v3 & 28.89 \\\\\n",
      "  small2 &               adaavg & 28.64 \\\\\n",
      "  small2 &          huawei-tsc1 & 28.40 \\\\\n",
      "  small2 &           srph-large & 22.97 \\\\\n",
      "  small2 & finetune-saptarashmi & 15.72 \\\\\n",
      "  small2 &             615m-new & 15.10 \\\\\n",
      "  small2 &               model4 & 13.19 \\\\\n",
      "  small2 &               model1 & 12.46 \\\\\n",
      "\\bottomrule\n",
      "\\end{tabular}\n"
     ]
    }
   ],
   "source": [
    "def add_hline(latex_str: str, index: int):\n",
    "    lines = latex_str.splitlines()\n",
    "    lines.insert(4+ index  , r'\\midrule')\n",
    "    return '\\n'.join(lines).replace('NaN', '')\n",
    "\n",
    "# get summary table in latex\n",
    "summary = df[df.mid.isin(\n",
    "    list(itertools.chain(*list(allp.values()))))\n",
    "  ].groupby(['taskname','modelname']).perf.mean().reset_index().sort_values(['taskname','perf'], ascending=[True,False])\n",
    "\n",
    "pd.set_option('display.float_format', lambda x: '%.2f' % x)\n",
    "\n",
    "latex_table = summary.to_latex(index=False)\n",
    "latex_table = add_hline(latex_table, len(allp['full']))\n",
    "latex_table = add_hline(latex_table, len(allp['full']) + 1 +  len(allp['small1']))\n",
    "print(latex_table)"
   ]
  },
  {
   "cell_type": "code",
   "execution_count": 299,
   "id": "technical-testament",
   "metadata": {},
   "outputs": [
    {
     "data": {
      "text/plain": [
       "taskname\n",
       "full      15\n",
       "small1    54\n",
       "small2    94\n",
       "Name: mid, dtype: int64"
      ]
     },
     "execution_count": 299,
     "metadata": {},
     "output_type": "execute_result"
    }
   ],
   "source": [
    "# Get total number of models submitted\n",
    "df.groupby(['taskname']).mid.nunique()"
   ]
  },
  {
   "cell_type": "markdown",
   "id": "confirmed-supply",
   "metadata": {},
   "source": [
    "# Analyzse submisisons per day"
   ]
  },
  {
   "cell_type": "code",
   "execution_count": 406,
   "id": "awful-hybrid",
   "metadata": {},
   "outputs": [
    {
     "data": {
      "image/png": "[encoded data removed]",
      "text/plain": [
       "<Figure size 864x216 with 1 Axes>"
      ]
     },
     "metadata": {
      "needs_background": "light"
     },
     "output_type": "display_data"
    }
   ],
   "source": [
    "# Get submissions per day\n",
    "\n",
    "## filter only submissions before deadline\n",
    "filtered = df[df['timestamp'].dt.date < datetime.date(year=2021, month=8,day=14)]\n",
    "days=filtered.groupby([filtered['timestamp'].dt.date]).mid.nunique().reset_index()\n",
    "\n",
    "fig, ax = plt.subplots(figsize = (12,3), nrows=1, ncols=1)    \n",
    "x_dates = filtered['timestamp'].dt.strftime('%m-%d').sort_values().unique()\n",
    "fig = sns.barplot(x='timestamp', y=\"mid\", data=days, ax=ax, palette=\"Blues\")\n",
    "ax.set_xticklabels(labels=x_dates, rotation=45, ha='right')\n",
    "ax.set(xlabel='date of submission', ylabel='Number of submissions per day')\n",
    "plt.savefig(\"imgs/submissions.pdf\",bbox_inches='tight')\n"
   ]
  },
  {
   "cell_type": "markdown",
   "id": "incoming-innocent",
   "metadata": {},
   "source": [
    "# Analyze improvements per languages\n"
   ]
  },
  {
   "cell_type": "code",
   "execution_count": 392,
   "id": "welsh-spring",
   "metadata": {},
   "outputs": [],
   "source": [
    "def add_bar_labels(ax):\n",
    "    cur_lim = ax.get_ylim()\n",
    "    cur_lim = (cur_lim[0], cur_lim[1]*1.1)\n",
    "    print(cur_lim)\n",
    "    ax.set_ylim(cur_lim)        \n",
    "    for container in ax.containers:\n",
    "        ax.bar_label(container, fmt='%.1f')\n",
    "        \n",
    "def plot_langs(data, bycol=\"src\", name=\"full\"):\n",
    "    longdesc={\"src\": \"Source\", \"trg\": \"Target\"}\n",
    "    fig_width = {\"full\": 21, \"small1\":8, \"small2\": 8}\n",
    "    fig, ax = plt.subplots(figsize = (fig_width[name],3), nrows=1, ncols=1)    \n",
    "    sorted_data= data.groupby(bycol).perf.mean().sort_values(ascending=False)\n",
    "    \n",
    "    sns.barplot(data=data,x=bycol,y='perf',order=sorted_data.index, palette=\"crest\",ci=None)\n",
    "    ax.set_xticklabels(labels=sorted_data.index, rotation=90, ha='right')\n",
    "    ax.set(xlabel=f'{longdesc[bycol]} language', ylabel='delta in spBLEU')\n",
    "    plt.savefig(f\"imgs/analysis_{name}_langs_by_{bycol}.pdf\",bbox_inches='tight')\n",
    "    \n",
    "    \n",
    "def plot_langs_families(data, bycol=\"src\", name=\"full\"):\n",
    "    newdata= data.set_index(bycol).join(langnames.set_index('ISO 639-3')).reset_index()\n",
    "    longdesc={\"src\": \"Source\", \"trg\": \"Target\"}\n",
    "    newdata[bycol] = newdata[\"index\"]\n",
    "    \n",
    "    fig, ax = plt.subplots(figsize = (8,3), nrows=1, ncols=1)    \n",
    "    sorted_data= newdata.groupby(\"Subgrouping\").perf.mean().sort_values(ascending=False)\n",
    "    \n",
    "    sns.barplot(data=newdata,x=\"Subgrouping\",y='perf',order=sorted_data.index, palette=\"crest\", ci=None)\n",
    "    ax.set_xticklabels(labels=sorted_data.index, rotation=90, ha='right')\n",
    "    ax.set(xlabel=f'{longdesc[bycol]} Language Subgroups', ylabel='delta in spBLEU')\n",
    "    add_bar_labels(ax)\n",
    "\n",
    "    plt.savefig(f\"imgs/analysis_{name}_langs_by_{bycol}_subgroups.pdf\",bbox_inches='tight')\n",
    "\n",
    "    \n",
    "def plot_hists_delta(data, name):\n",
    "    fig, ax = plt.subplots(figsize = (5,4), nrows=1, ncols=1)   \n",
    "    sns.histplot(data=data, x=\"perf\") \n",
    "    ax.set(xlabel=f'delta in spBLEU', ylabel='frequency')\n",
    "    \n",
    "    plt.savefig(f\"imgs/analysis_{name}_deltas_hist.pdf\",bbox_inches='tight')\n",
    "    \n",
    "\n",
    "        \n",
    "def analyze_task(task):\n",
    "    deltas = (\n",
    "    #get delta of performance between highest and baseline\n",
    "    df[df.mid.isin(allp[task])].groupby(['src','trg','mid']).perf.mean().reset_index().groupby(['src','trg']).perf.max()\n",
    "        - df[df.mid.isin(baselines[task])].groupby(['src','trg']).perf.mean()\n",
    "\n",
    "    ).reset_index()\n",
    "    \n",
    "    deltas[\"max\"] = df[df.mid.isin(allp[task])].groupby(['src','trg','mid']).perf.mean().reset_index().groupby(['src','trg']).perf.max().reset_index().perf\n",
    "    \n",
    "    ################\n",
    "    print(\"\"\"***Analysis of language pairs deltas***\"\"\") \n",
    "    sorted_delta = deltas.sort_values(by='perf', ascending=False)\n",
    "    print (\"TOP 5 improvements wrt to baseline\")\n",
    "    print(sorted_delta[:5] )\n",
    "    print(sorted_delta[:5].to_latex(index=False) )\n",
    "    print (\"BOTTOM 5 improvements wrt to baseline\")\n",
    "    print(sorted_delta[-5:] )\n",
    "    print(sorted_delta[-5:].to_latex(index=False) )\n",
    "    print(f\"GAP between top and bottom by pair: {list(sorted_delta.reset_index().perf)[0] -  list(sorted_delta.reset_index().perf)[-1]}\" )\n",
    "    \n",
    "    plot_hists_delta(deltas, task)\n",
    "    print('AVG improv', deltas.perf.mean())\n",
    "    print('AVG improv into ENG', deltas[deltas.trg=='eng'].perf.mean())\n",
    "    \n",
    "    print(\"\"\"***Analysis per of averages source language***\"\"\")\n",
    "    sorted_delta = deltas.groupby('src').mean().sort_values(by='perf', ascending=False)\n",
    "    print (\"TOP 5 improvements wrt to baseline\")\n",
    "    print(sorted_delta[:5] )\n",
    "    print(sorted_delta[:5].to_latex() )\n",
    "\n",
    "    print (\"BOTTOM 5 improvements wrt to baseline\")\n",
    "    print(sorted_delta[-5:] )\n",
    "    print(sorted_delta[-5:].to_latex() )\n",
    "    \n",
    "    print(f\"GAP between top and bottom by source: {list(sorted_delta.reset_index().perf)[0] -  list(sorted_delta.reset_index().perf)[-1]}\" )\n",
    "\n",
    "        \n",
    "    print(\"\"\"Analysis of averages per target language\"\"\")\n",
    "    sorted_delta=deltas.groupby('trg').mean().sort_values(by='perf', ascending=False)\n",
    "    print (\"TOP 5 improvements wrt to baseline\")\n",
    "    print(sorted_delta[:5])\n",
    "    print(sorted_delta[:5].to_latex() )\n",
    "    print (\"BOTTOM 5 improvements wrt to baseline\")\n",
    "    print(sorted_delta[-5:])\n",
    "    print(sorted_delta[-5:].to_latex() )\n",
    "    print(f\"GAP between top and bottom by trg: {list(sorted_delta.reset_index().perf)[0] -  list(sorted_delta.reset_index().perf)[-1]}\" )\n",
    "\n",
    "    plot_langs(deltas, bycol=\"src\", name=task )\n",
    "    plot_langs_families(deltas, bycol=\"src\", name=task )\n",
    "    plot_langs(deltas, bycol=\"trg\", name=task)\n",
    "    plot_langs_families(deltas, bycol=\"trg\", name=task )\n",
    "\n",
    "    return deltas\n",
    "    \n",
    "\n",
    "               "
   ]
  },
  {
   "cell_type": "markdown",
   "id": "identical-hydrogen",
   "metadata": {},
   "source": [
    "## Full task analysis"
   ]
  },
  {
   "cell_type": "code",
   "execution_count": 393,
   "id": "opening-typing",
   "metadata": {},
   "outputs": [
    {
     "name": "stdout",
     "output_type": "stream",
     "text": [
      "***Analysis of language pairs deltas***\n",
      "TOP 5 improvements wrt to baseline\n",
      "      src  trg  perf   max\n",
      "1832  eng  cym 46.41 58.37\n",
      "2442  gle  eng 43.55 45.61\n",
      "1841  eng  gle 43.10 43.33\n",
      "5771  mlt  cym 42.88 48.49\n",
      "2480  gle  mlt 41.83 43.70\n",
      "\\begin{tabular}{llrr}\n",
      "\\toprule\n",
      "src & trg &  perf &   max \\\\\n",
      "\\midrule\n",
      "eng & cym & 46.41 & 58.37 \\\\\n",
      "gle & eng & 43.55 & 45.61 \\\\\n",
      "eng & gle & 43.10 & 43.33 \\\\\n",
      "mlt & cym & 42.88 & 48.49 \\\\\n",
      "gle & mlt & 41.83 & 43.70 \\\\\n",
      "\\bottomrule\n",
      "\\end{tabular}\n",
      "\n",
      "BOTTOM 5 improvements wrt to baseline\n",
      "            src  trg  perf  max\n",
      "6012        mri  luo  0.00 2.00\n",
      "10143  zho_trad  kea  0.00 1.45\n",
      "3851        jpn  ckb  0.00 0.14\n",
      "8931        tgl  kea  0.00 3.72\n",
      "5568        mar  ckb  0.00 0.15\n",
      "\\begin{tabular}{llrr}\n",
      "\\toprule\n",
      "     src & trg &  perf &  max \\\\\n",
      "\\midrule\n",
      "     mri & luo &  0.00 & 2.00 \\\\\n",
      "zho\\_trad & kea &  0.00 & 1.45 \\\\\n",
      "     jpn & ckb &  0.00 & 0.14 \\\\\n",
      "     tgl & kea &  0.00 & 3.72 \\\\\n",
      "     mar & ckb &  0.00 & 0.15 \\\\\n",
      "\\bottomrule\n",
      "\\end{tabular}\n",
      "\n",
      "GAP between top and bottom by pair: 46.41\n",
      "AVG improv 10.59725393127548\n",
      "AVG improv into ENG 17.558316831683168\n",
      "***Analysis per of averages source language***\n",
      "TOP 5 improvements wrt to baseline\n",
      "     perf   max\n",
      "src            \n",
      "gle 19.37 20.31\n",
      "uzb 17.01 18.16\n",
      "cym 17.01 23.21\n",
      "npi 15.22 17.76\n",
      "guj 14.96 15.08\n",
      "\\begin{tabular}{lrr}\n",
      "\\toprule\n",
      "{} &  perf &   max \\\\\n",
      "src &       &       \\\\\n",
      "\\midrule\n",
      "gle & 19.37 & 20.31 \\\\\n",
      "uzb & 17.01 & 18.16 \\\\\n",
      "cym & 17.01 & 23.21 \\\\\n",
      "npi & 15.22 & 17.76 \\\\\n",
      "guj & 14.96 & 15.08 \\\\\n",
      "\\bottomrule\n",
      "\\end{tabular}\n",
      "\n",
      "BOTTOM 5 improvements wrt to baseline\n",
      "     perf  max\n",
      "src           \n",
      "umb  3.14 5.35\n",
      "kam  2.87 5.42\n",
      "ckb  2.22 4.78\n",
      "ful  1.86 3.13\n",
      "yor  1.60 3.17\n",
      "\\begin{tabular}{lrr}\n",
      "\\toprule\n",
      "{} &  perf &  max \\\\\n",
      "src &       &      \\\\\n",
      "\\midrule\n",
      "umb &  3.14 & 5.35 \\\\\n",
      "kam &  2.87 & 5.42 \\\\\n",
      "ckb &  2.22 & 4.78 \\\\\n",
      "ful &  1.86 & 3.13 \\\\\n",
      "yor &  1.60 & 3.17 \\\\\n",
      "\\bottomrule\n",
      "\\end{tabular}\n",
      "\n",
      "GAP between top and bottom by source: 17.763663366336633\n",
      "Analysis of averages per target language\n",
      "TOP 5 improvements wrt to baseline\n",
      "     perf   max\n",
      "trg            \n",
      "gle 26.41 26.95\n",
      "cym 26.21 31.35\n",
      "mlt 23.30 34.14\n",
      "tel 21.62 22.49\n",
      "eng 17.56 33.44\n",
      "\\begin{tabular}{lrr}\n",
      "\\toprule\n",
      "{} &  perf &   max \\\\\n",
      "trg &       &       \\\\\n",
      "\\midrule\n",
      "gle & 26.41 & 26.95 \\\\\n",
      "cym & 26.21 & 31.35 \\\\\n",
      "mlt & 23.30 & 34.14 \\\\\n",
      "tel & 21.62 & 22.49 \\\\\n",
      "eng & 17.56 & 33.44 \\\\\n",
      "\\bottomrule\n",
      "\\end{tabular}\n",
      "\n",
      "BOTTOM 5 improvements wrt to baseline\n",
      "     perf  max\n",
      "trg           \n",
      "umb  1.30 2.48\n",
      "luo  0.87 2.19\n",
      "kea  0.52 2.58\n",
      "ful  0.45 1.21\n",
      "ckb  0.07 0.19\n",
      "\\begin{tabular}{lrr}\n",
      "\\toprule\n",
      "{} &  perf &  max \\\\\n",
      "trg &       &      \\\\\n",
      "\\midrule\n",
      "umb &  1.30 & 2.48 \\\\\n",
      "luo &  0.87 & 2.19 \\\\\n",
      "kea &  0.52 & 2.58 \\\\\n",
      "ful &  0.45 & 1.21 \\\\\n",
      "ckb &  0.07 & 0.19 \\\\\n",
      "\\bottomrule\n",
      "\\end{tabular}\n",
      "\n",
      "GAP between top and bottom by trg: 26.33960396039604\n",
      "(0.0, 17.755294678217822)\n",
      "(0.0, 22.305480074257428)\n"
     ]
    },
    {
     "data": {
      "image/png": "[encoded data removed]",
      "text/plain": [
       "<Figure size 360x288 with 1 Axes>"
      ]
     },
     "metadata": {
      "needs_background": "light"
     },
     "output_type": "display_data"
    },
    {
     "data": {
      "image/png": "[encoded data removed]",
      "text/plain": [
       "<Figure size 1512x216 with 1 Axes>"
      ]
     },
     "metadata": {
      "needs_background": "light"
     },
     "output_type": "display_data"
    },
    {
     "data": {
      "image/png": "[encoded data removed]",
      "text/plain": [
       "<Figure size 576x216 with 1 Axes>"
      ]
     },
     "metadata": {
      "needs_background": "light"
     },
     "output_type": "display_data"
    },
    {
     "data": {
      "image/png": "[encoded data removed]",
      "text/plain": [
       "<Figure size 1512x216 with 1 Axes>"
      ]
     },
     "metadata": {
      "needs_background": "light"
     },
     "output_type": "display_data"
    },
    {
     "data": {
      "image/png": "[encoded data removed]",
      "text/plain": [
       "<Figure size 576x216 with 1 Axes>"
      ]
     },
     "metadata": {
      "needs_background": "light"
     },
     "output_type": "display_data"
    }
   ],
   "source": [
    "# full task\n",
    "dd= analyze_task(\"full\")"
   ]
  },
  {
   "cell_type": "code",
   "execution_count": 311,
   "id": "present-tucson",
   "metadata": {},
   "outputs": [
    {
     "data": {
      "application/vnd.plotly.v1+json": {
       "config": {
        "plotlyServerURL": "https://plot.ly"
       },
       "data": [
        {
         "branchvalues": "total",
         "customdata": [
          [
           12.514554455445545
          ],
          [
           13.920198019801981
          ],
          [
           11.774059405940594
          ],
          [
           14.513465346534653
          ],
          [
           12.324257425742575
          ],
          [
           9.895742574257426
          ],
          [
           11.064851485148514
          ],
          [
           9.847722772277228
          ],
          [
           10.343366336633665
          ],
          [
           10.484851485148516
          ],
          [
           10.925148514851486
          ],
          [
           10.30039603960396
          ],
          [
           10.255346534653466
          ],
          [
           13.421980198019803
          ],
          [
           10.301881188118813
          ],
          [
           10.702376237623763
          ],
          [
           11.154455445544556
          ],
          [
           9.215841584158415
          ],
          [
           14.217722772277227
          ],
          [
           10.913465346534654
          ],
          [
           14.240792079207921
          ],
          [
           10.456831683168316
          ],
          [
           10.013465346534653
          ],
          [
           1.8562376237623759
          ],
          [
           9.601485148514852
          ],
          [
           6.56970297029703
          ],
          [
           13.225544554455444
          ],
          [
           10.43970297029703
          ],
          [
           10.600396039603961
          ],
          [
           14.957227722772277
          ],
          [
           8.109603960396038
          ],
          [
           12.53960396039604
          ],
          [
           11.669900990099011
          ],
          [
           10.628811881188119
          ],
          [
           10.914554455445543
          ],
          [
           9.709702970297029
          ],
          [
           11.231881188118813
          ],
          [
           19.367920792079207
          ],
          [
           9.50950495049505
          ],
          [
           9.949900990099009
          ],
          [
           10.184752475247526
          ],
          [
           12.015643564356434
          ],
          [
           2.8665346534653464
          ],
          [
           10.915049504950495
          ],
          [
           11.285148514851487
          ],
          [
           11.288415841584158
          ],
          [
           10.472376237623763
          ],
          [
           9.254356435643565
          ],
          [
           12.666633663366335
          ],
          [
           13.8109900990099
          ],
          [
           9.98960396039604
          ],
          [
           10.206336633663366
          ],
          [
           7.955544554455446
          ],
          [
           9.37
          ],
          [
           10.779009900990099
          ],
          [
           11.292574257425741
          ],
          [
           12.370990099009902
          ],
          [
           13.877722772277227
          ],
          [
           12.580099009900989
          ],
          [
           9.922376237623762
          ],
          [
           11.760594059405943
          ],
          [
           15.22029702970297
          ],
          [
           3.733861386138614
          ],
          [
           10.166930693069306
          ],
          [
           7.587326732673268
          ],
          [
           9.959504950495049
          ],
          [
           10.317128712871288
          ],
          [
           5.52039603960396
          ],
          [
           10.102277227722773
          ],
          [
           10.385841584158417
          ],
          [
           9.12970297029703
          ],
          [
           10.700000000000001
          ],
          [
           13.155841584158416
          ],
          [
           10.36039603960396
          ],
          [
           10.432574257425744
          ],
          [
           10.767821782178217
          ],
          [
           8.388118811881188
          ],
          [
           10.003069306930694
          ],
          [
           10.645544554455446
          ],
          [
           10.317524752475247
          ],
          [
           8.684059405940594
          ],
          [
           2.2242574257425742
          ],
          [
           9.65059405940594
          ],
          [
           9.278217821782178
          ],
          [
           10.817425742574256
          ],
          [
           11.885049504950496
          ],
          [
           14.67
          ],
          [
           13.963960396039603
          ],
          [
           12.997425742574258
          ],
          [
           11.378811881188119
          ],
          [
           10.714455445544555
          ],
          [
           3.144653465346535
          ],
          [
           11.720990099009901
          ],
          [
           17.013069306930692
          ],
          [
           10.117722772277228
          ],
          [
           17.008415841584156
          ],
          [
           5.44990099009901
          ],
          [
           11.932772277227723
          ],
          [
           1.6042574257425744
          ],
          [
           12.083564356435645
          ],
          [
           11.614602357728254
          ],
          [
           10.647081055017615
          ],
          [
           12.096028639822642
          ],
          [
           10.680607349096928
          ],
          [
           8.661658444289227
          ],
          [
           13.131407725972272
          ],
          [
           11.15473038023122
          ],
          [
           11.756761961521288
          ],
          [
           6.952311896613956
          ],
          [
           10.921244769518978
          ],
          [
           15.528805704977264
          ],
          [
           10.179763192220818
          ],
          [
           12.139840762993177
          ],
          [
           12.253979228226026
          ],
          [
           10.670872294808577
          ]
         ],
         "domain": {
          "x": [
           0,
           1
          ],
          "y": [
           0,
           1
          ]
         },
         "hovertemplate": "labels=%{label}<br>max=%{value}<br>parent=%{parent}<br>id=%{id}<br>perf=%{color}<extra></extra>",
         "ids": [
          "Germanic/Afrikaans",
          "Afro-Asiatic/Amharic",
          "Afro-Asiatic/Arabic",
          "Other IE/Armenian",
          "Indo-Aryan/Assamese",
          "Romance/Asturian",
          "Turkic/Azerbaijani",
          "Balto-Slavic/Belarusian",
          "Indo-Aryan/Bengali",
          "Balto-Slavic/Bosnian",
          "Balto-Slavic/Bulgarian",
          "Sino-Tibetan+Kra-Dai/Burmese",
          "Romance/Catalan",
          "Austronesian/Cebuano",
          "Balto-Slavic/Croatian",
          "Balto-Slavic/Czech",
          "Germanic/Danish",
          "Germanic/Dutch",
          "Germanic/English",
          "Uralic/Estonian",
          "Austronesian/Filipino  (Tagalog)",
          "Uralic/Finnish",
          "Romance/French",
          "Nilotic+Other AC/Fula",
          "Romance/Galician",
          "Bantu/Ganda",
          "Other/Georgian",
          "Germanic/German",
          "Other IE/Greek",
          "Indo-Aryan/Gujarati",
          "Afro-Asiatic/Hausa",
          "Afro-Asiatic/Hebrew",
          "Indo-Aryan/Hindi",
          "Uralic/Hungarian",
          "Germanic/Icelandic",
          "Nilotic+Other AC/Igbo",
          "Austronesian/Indonesian",
          "Other IE/Irish",
          "Romance/Italian",
          "Other/Japanese",
          "Austronesian/Javanese",
          "Romance/Kabuverdianu",
          "Bantu/Kamba",
          "Dravidian/Kannada",
          "Turkic/Kazakh",
          "Austro-Asiatic/Khmer",
          "Other/Korean",
          "Turkic/Kyrgyz",
          "Sino-Tibetan+Kra-Dai/Lao",
          "Balto-Slavic/Latvian",
          "Bantu/Lingala",
          "Balto-Slavic/Lithuanian",
          "Nilotic+Other AC/Luo",
          "Germanic/Luxembourgish",
          "Balto-Slavic/Macedonian",
          "Austronesian/Malay",
          "Dravidian/Malayalam",
          "Afro-Asiatic/Maltese",
          "Indo-Aryan/Marathi",
          "Other/Mongolian",
          "Austronesian/Māori",
          "Indo-Aryan/Nepali",
          "Bantu/Northern Sotho",
          "Germanic/Norwegian",
          "Bantu/Nyanja",
          "Romance/Occitan",
          "Indo-Aryan/Oriya",
          "Afro-Asiatic/Oromo",
          "Indo-Aryan/Pashto",
          "Indo-Aryan/Persian",
          "Balto-Slavic/Polish",
          "Romance/Portuguese   (Brazil)",
          "Indo-Aryan/Punjabi",
          "Romance/Romanian",
          "Balto-Slavic/Russian",
          "Balto-Slavic/Serbian",
          "Bantu/Shona",
          "Indo-Aryan/Sindhi",
          "Balto-Slavic/Slovak",
          "Balto-Slavic/Slovenian",
          "Afro-Asiatic/Somali",
          "Indo-Aryan/Sorani Kurdish",
          "Romance/Spanish   (Latin America)",
          "Bantu/Swahili",
          "Germanic/Swedish",
          "Indo-Aryan/Tajik",
          "Dravidian/Tamil",
          "Dravidian/Telugu",
          "Sino-Tibetan+Kra-Dai/Thai",
          "Turkic/Turkish",
          "Balto-Slavic/Ukrainian",
          "Bantu/Umbundu",
          "Indo-Aryan/Urdu",
          "Turkic/Uzbek",
          "Austro-Asiatic/Vietnamese",
          "Other IE/Welsh",
          "Nilotic+Other AC/Wolof",
          "Bantu/Xhosa",
          "Nilotic+Other AC/Yoruba",
          "Bantu/Zulu",
          "Afro-Asiatic",
          "Austro-Asiatic",
          "Austronesian",
          "Balto-Slavic",
          "Bantu",
          "Dravidian",
          "Germanic",
          "Indo-Aryan",
          "Nilotic+Other AC",
          "Other",
          "Other IE",
          "Romance",
          "Sino-Tibetan+Kra-Dai",
          "Turkic",
          "Uralic"
         ],
         "labels": [
          "Afrikaans",
          "Amharic",
          "Arabic",
          "Armenian",
          "Assamese",
          "Asturian",
          "Azerbaijani",
          "Belarusian",
          "Bengali",
          "Bosnian",
          "Bulgarian",
          "Burmese",
          "Catalan",
          "Cebuano",
          "Croatian",
          "Czech",
          "Danish",
          "Dutch",
          "English",
          "Estonian",
          "Filipino  (Tagalog)",
          "Finnish",
          "French",
          "Fula",
          "Galician",
          "Ganda",
          "Georgian",
          "German",
          "Greek",
          "Gujarati",
          "Hausa",
          "Hebrew",
          "Hindi",
          "Hungarian",
          "Icelandic",
          "Igbo",
          "Indonesian",
          "Irish",
          "Italian",
          "Japanese",
          "Javanese",
          "Kabuverdianu",
          "Kamba",
          "Kannada",
          "Kazakh",
          "Khmer",
          "Korean",
          "Kyrgyz",
          "Lao",
          "Latvian",
          "Lingala",
          "Lithuanian",
          "Luo",
          "Luxembourgish",
          "Macedonian",
          "Malay",
          "Malayalam",
          "Maltese",
          "Marathi",
          "Mongolian",
          "Māori",
          "Nepali",
          "Northern Sotho",
          "Norwegian",
          "Nyanja",
          "Occitan",
          "Oriya",
          "Oromo",
          "Pashto",
          "Persian",
          "Polish",
          "Portuguese   (Brazil)",
          "Punjabi",
          "Romanian",
          "Russian",
          "Serbian",
          "Shona",
          "Sindhi",
          "Slovak",
          "Slovenian",
          "Somali",
          "Sorani Kurdish",
          "Spanish   (Latin America)",
          "Swahili",
          "Swedish",
          "Tajik",
          "Tamil",
          "Telugu",
          "Thai",
          "Turkish",
          "Ukrainian",
          "Umbundu",
          "Urdu",
          "Uzbek",
          "Vietnamese",
          "Welsh",
          "Wolof",
          "Xhosa",
          "Yoruba",
          "Zulu",
          "Afro-Asiatic",
          "Austro-Asiatic",
          "Austronesian",
          "Balto-Slavic",
          "Bantu",
          "Dravidian",
          "Germanic",
          "Indo-Aryan",
          "Nilotic+Other AC",
          "Other",
          "Other IE",
          "Romance",
          "Sino-Tibetan+Kra-Dai",
          "Turkic",
          "Uralic"
         ],
         "marker": {
          "coloraxis": "coloraxis",
          "colors": [
           12.514554455445545,
           13.920198019801981,
           11.774059405940594,
           14.513465346534653,
           12.324257425742575,
           9.895742574257426,
           11.064851485148514,
           9.847722772277228,
           10.343366336633665,
           10.484851485148516,
           10.925148514851486,
           10.30039603960396,
           10.255346534653466,
           13.421980198019803,
           10.301881188118813,
           10.702376237623763,
           11.154455445544556,
           9.215841584158415,
           14.217722772277227,
           10.913465346534654,
           14.240792079207921,
           10.456831683168316,
           10.013465346534653,
           1.8562376237623759,
           9.601485148514852,
           6.56970297029703,
           13.225544554455444,
           10.43970297029703,
           10.600396039603961,
           14.957227722772277,
           8.109603960396038,
           12.53960396039604,
           11.669900990099011,
           10.628811881188119,
           10.914554455445543,
           9.709702970297029,
           11.231881188118813,
           19.367920792079207,
           9.50950495049505,
           9.949900990099009,
           10.184752475247526,
           12.015643564356434,
           2.8665346534653464,
           10.915049504950495,
           11.285148514851487,
           11.288415841584158,
           10.472376237623763,
           9.254356435643565,
           12.666633663366335,
           13.8109900990099,
           9.98960396039604,
           10.206336633663366,
           7.955544554455446,
           9.37,
           10.779009900990099,
           11.292574257425741,
           12.370990099009902,
           13.877722772277227,
           12.580099009900989,
           9.922376237623762,
           11.760594059405943,
           15.22029702970297,
           3.733861386138614,
           10.166930693069306,
           7.587326732673268,
           9.959504950495049,
           10.317128712871288,
           5.52039603960396,
           10.102277227722773,
           10.385841584158417,
           9.12970297029703,
           10.700000000000001,
           13.155841584158416,
           10.36039603960396,
           10.432574257425744,
           10.767821782178217,
           8.388118811881188,
           10.003069306930694,
           10.645544554455446,
           10.317524752475247,
           8.684059405940594,
           2.2242574257425742,
           9.65059405940594,
           9.278217821782178,
           10.817425742574256,
           11.885049504950496,
           14.67,
           13.963960396039603,
           12.997425742574258,
           11.378811881188119,
           10.714455445544555,
           3.144653465346535,
           11.720990099009901,
           17.013069306930692,
           10.117722772277228,
           17.008415841584156,
           5.44990099009901,
           11.932772277227723,
           1.6042574257425744,
           12.083564356435645,
           11.614602357728254,
           10.647081055017615,
           12.096028639822642,
           10.680607349096928,
           8.661658444289227,
           13.131407725972272,
           11.15473038023122,
           11.756761961521288,
           6.952311896613956,
           10.921244769518978,
           15.528805704977264,
           10.179763192220818,
           12.139840762993177,
           12.253979228226026,
           10.670872294808577
          ]
         },
         "name": "",
         "parents": [
          "Germanic",
          "Afro-Asiatic",
          "Afro-Asiatic",
          "Other IE",
          "Indo-Aryan",
          "Romance",
          "Turkic",
          "Balto-Slavic",
          "Indo-Aryan",
          "Balto-Slavic",
          "Balto-Slavic",
          "Sino-Tibetan+Kra-Dai",
          "Romance",
          "Austronesian",
          "Balto-Slavic",
          "Balto-Slavic",
          "Germanic",
          "Germanic",
          "Germanic",
          "Uralic",
          "Austronesian",
          "Uralic",
          "Romance",
          "Nilotic+Other AC",
          "Romance",
          "Bantu",
          "Other",
          "Germanic",
          "Other IE",
          "Indo-Aryan",
          "Afro-Asiatic",
          "Afro-Asiatic",
          "Indo-Aryan",
          "Uralic",
          "Germanic",
          "Nilotic+Other AC",
          "Austronesian",
          "Other IE",
          "Romance",
          "Other",
          "Austronesian",
          "Romance",
          "Bantu",
          "Dravidian",
          "Turkic",
          "Austro-Asiatic",
          "Other",
          "Turkic",
          "Sino-Tibetan+Kra-Dai",
          "Balto-Slavic",
          "Bantu",
          "Balto-Slavic",
          "Nilotic+Other AC",
          "Germanic",
          "Balto-Slavic",
          "Austronesian",
          "Dravidian",
          "Afro-Asiatic",
          "Indo-Aryan",
          "Other",
          "Austronesian",
          "Indo-Aryan",
          "Bantu",
          "Germanic",
          "Bantu",
          "Romance",
          "Indo-Aryan",
          "Afro-Asiatic",
          "Indo-Aryan",
          "Indo-Aryan",
          "Balto-Slavic",
          "Romance",
          "Indo-Aryan",
          "Romance",
          "Balto-Slavic",
          "Balto-Slavic",
          "Bantu",
          "Indo-Aryan",
          "Balto-Slavic",
          "Balto-Slavic",
          "Afro-Asiatic",
          "Indo-Aryan",
          "Romance",
          "Bantu",
          "Germanic",
          "Indo-Aryan",
          "Dravidian",
          "Dravidian",
          "Sino-Tibetan+Kra-Dai",
          "Turkic",
          "Balto-Slavic",
          "Bantu",
          "Indo-Aryan",
          "Turkic",
          "Austro-Asiatic",
          "Other IE",
          "Nilotic+Other AC",
          "Bantu",
          "Nilotic+Other AC",
          "Bantu",
          "",
          "",
          "",
          "",
          "",
          "",
          "",
          "",
          "",
          "",
          "",
          "",
          "",
          "",
          ""
         ],
         "type": "sunburst",
         "values": [
          23.14019801980198,
          15.658316831683168,
          18.247623762376236,
          18.41227722772277,
          13.18990099009901,
          17.567029702970295,
          14.123861386138614,
          14.204851485148515,
          16.64059405940594,
          21.680198019801978,
          20.922871287128714,
          13.335841584158416,
          20.2919801980198,
          19.074059405940595,
          20.57881188118812,
          20.853960396039604,
          22.59148514851485,
          18.463960396039603,
          26.363564356435642,
          20.477425742574255,
          21.002970297029705,
          19.296435643564358,
          20.968019801980198,
          3.129009900990099,
          20.282574257425743,
          8.565940594059406,
          16.487326732673267,
          21.13118811881188,
          18.998217821782177,
          15.078415841584158,
          10.917920792079208,
          20.42138613861386,
          19.2680198019802,
          19.91089108910891,
          18.613168316831683,
          12.098514851485149,
          20.9080198019802,
          20.312970297029704,
          19.2890099009901,
          16.217821782178216,
          16.218712871287128,
          16.36118811881188,
          5.4183168316831685,
          12.731485148514853,
          13.952178217821784,
          15.764257425742574,
          17.04029702970297,
          12.968118811881189,
          16.483663366336632,
          20.214158415841585,
          11.97980198019802,
          19.033663366336633,
          10.352970297029703,
          16.27039603960396,
          20.98257425742574,
          20.673960396039604,
          17.11762376237624,
          23.33831683168317,
          17.49633663366337,
          14.606336633663366,
          13.895544554455446,
          17.75851485148515,
          6.095940594059405,
          20.474851485148516,
          12.306237623762376,
          19.16128712871287,
          10.882376237623763,
          6.667425742574257,
          14.896039603960396,
          18.277326732673266,
          17.823564356435643,
          22.167326732673267,
          15.636831683168316,
          21.697326732673265,
          19.756732673267326,
          21.065247524752476,
          12.891782178217822,
          10.665940594059405,
          20.90257425742574,
          20.008316831683167,
          10.857623762376237,
          4.775940594059406,
          18.27029702970297,
          17.064950495049505,
          22.43990099009901,
          14.603960396039604,
          16.95257425742574,
          18.19821782178218,
          18.47871287128713,
          19.663663366336632,
          20.265742574257423,
          5.353366336633664,
          17.135346534653465,
          18.15910891089109,
          19.09891089108911,
          23.21009900990099,
          7.217425742574258,
          14.842970297029703,
          3.1707920792079207,
          14.803960396039605,
          106.10861386138613,
          34.86316831683168,
          111.77326732673268,
          278.2932673267327,
          109.32326732673268,
          64.99990099009901,
          189.48871287128713,
          206.30554455445545,
          35.96871287128713,
          64.35178217821782,
          80.93356435643564,
          196.0560396039604,
          48.298217821782174,
          78.8669306930693,
          59.68475247524752
         ]
        }
       ],
       "layout": {
        "autosize": true,
        "coloraxis": {
         "colorbar": {
          "title": {
           "text": "perf"
          }
         },
         "colorscale": [
          [
           0,
           "rgb(103,0,31)"
          ],
          [
           0.1,
           "rgb(178,24,43)"
          ],
          [
           0.2,
           "rgb(214,96,77)"
          ],
          [
           0.3,
           "rgb(244,165,130)"
          ],
          [
           0.4,
           "rgb(253,219,199)"
          ],
          [
           0.5,
           "rgb(247,247,247)"
          ],
          [
           0.6,
           "rgb(209,229,240)"
          ],
          [
           0.7,
           "rgb(146,197,222)"
          ],
          [
           0.8,
           "rgb(67,147,195)"
          ],
          [
           0.9,
           "rgb(33,102,172)"
          ],
          [
           1,
           "rgb(5,48,97)"
          ]
         ]
        },
        "legend": {
         "tracegroupgap": 0
        },
        "margin": {
         "t": 60
        },
        "template": {
         "data": {
          "bar": [
           {
            "error_x": {
             "color": "#2a3f5f"
            },
            "error_y": {
             "color": "#2a3f5f"
            },
            "marker": {
             "line": {
              "color": "#E5ECF6",
              "width": 0.5
             },
             "pattern": {
              "fillmode": "overlay",
              "size": 10,
              "solidity": 0.2
             }
            },
            "type": "bar"
           }
          ],
          "barpolar": [
           {
            "marker": {
             "line": {
              "color": "#E5ECF6",
              "width": 0.5
             },
             "pattern": {
              "fillmode": "overlay",
              "size": 10,
              "solidity": 0.2
             }
            },
            "type": "barpolar"
           }
          ],
          "carpet": [
           {
            "aaxis": {
             "endlinecolor": "#2a3f5f",
             "gridcolor": "white",
             "linecolor": "white",
             "minorgridcolor": "white",
             "startlinecolor": "#2a3f5f"
            },
            "baxis": {
             "endlinecolor": "#2a3f5f",
             "gridcolor": "white",
             "linecolor": "white",
             "minorgridcolor": "white",
             "startlinecolor": "#2a3f5f"
            },
            "type": "carpet"
           }
          ],
          "choropleth": [
           {
            "colorbar": {
             "outlinewidth": 0,
             "ticks": ""
            },
            "type": "choropleth"
           }
          ],
          "contour": [
           {
            "colorbar": {
             "outlinewidth": 0,
             "ticks": ""
            },
            "colorscale": [
             [
              0,
              "#0d0887"
             ],
             [
              0.1111111111111111,
              "#46039f"
             ],
             [
              0.2222222222222222,
              "#7201a8"
             ],
             [
              0.3333333333333333,
              "#9c179e"
             ],
             [
              0.4444444444444444,
              "#bd3786"
             ],
             [
              0.5555555555555556,
              "#d8576b"
             ],
             [
              0.6666666666666666,
              "#ed7953"
             ],
             [
              0.7777777777777778,
              "#fb9f3a"
             ],
             [
              0.8888888888888888,
              "#fdca26"
             ],
             [
              1,
              "#f0f921"
             ]
            ],
            "type": "contour"
           }
          ],
          "contourcarpet": [
           {
            "colorbar": {
             "outlinewidth": 0,
             "ticks": ""
            },
            "type": "contourcarpet"
           }
          ],
          "heatmap": [
           {
            "colorbar": {
             "outlinewidth": 0,
             "ticks": ""
            },
            "colorscale": [
             [
              0,
              "#0d0887"
             ],
             [
              0.1111111111111111,
              "#46039f"
             ],
             [
              0.2222222222222222,
              "#7201a8"
             ],
             [
              0.3333333333333333,
              "#9c179e"
             ],
             [
              0.4444444444444444,
              "#bd3786"
             ],
             [
              0.5555555555555556,
              "#d8576b"
             ],
             [
              0.6666666666666666,
              "#ed7953"
             ],
             [
              0.7777777777777778,
              "#fb9f3a"
             ],
             [
              0.8888888888888888,
              "#fdca26"
             ],
             [
              1,
              "#f0f921"
             ]
            ],
            "type": "heatmap"
           }
          ],
          "heatmapgl": [
           {
            "colorbar": {
             "outlinewidth": 0,
             "ticks": ""
            },
            "colorscale": [
             [
              0,
              "#0d0887"
             ],
             [
              0.1111111111111111,
              "#46039f"
             ],
             [
              0.2222222222222222,
              "#7201a8"
             ],
             [
              0.3333333333333333,
              "#9c179e"
             ],
             [
              0.4444444444444444,
              "#bd3786"
             ],
             [
              0.5555555555555556,
              "#d8576b"
             ],
             [
              0.6666666666666666,
              "#ed7953"
             ],
             [
              0.7777777777777778,
              "#fb9f3a"
             ],
             [
              0.8888888888888888,
              "#fdca26"
             ],
             [
              1,
              "#f0f921"
             ]
            ],
            "type": "heatmapgl"
           }
          ],
          "histogram": [
           {
            "marker": {
             "pattern": {
              "fillmode": "overlay",
              "size": 10,
              "solidity": 0.2
             }
            },
            "type": "histogram"
           }
          ],
          "histogram2d": [
           {
            "colorbar": {
             "outlinewidth": 0,
             "ticks": ""
            },
            "colorscale": [
             [
              0,
              "#0d0887"
             ],
             [
              0.1111111111111111,
              "#46039f"
             ],
             [
              0.2222222222222222,
              "#7201a8"
             ],
             [
              0.3333333333333333,
              "#9c179e"
             ],
             [
              0.4444444444444444,
              "#bd3786"
             ],
             [
              0.5555555555555556,
              "#d8576b"
             ],
             [
              0.6666666666666666,
              "#ed7953"
             ],
             [
              0.7777777777777778,
              "#fb9f3a"
             ],
             [
              0.8888888888888888,
              "#fdca26"
             ],
             [
              1,
              "#f0f921"
             ]
            ],
            "type": "histogram2d"
           }
          ],
          "histogram2dcontour": [
           {
            "colorbar": {
             "outlinewidth": 0,
             "ticks": ""
            },
            "colorscale": [
             [
              0,
              "#0d0887"
             ],
             [
              0.1111111111111111,
              "#46039f"
             ],
             [
              0.2222222222222222,
              "#7201a8"
             ],
             [
              0.3333333333333333,
              "#9c179e"
             ],
             [
              0.4444444444444444,
              "#bd3786"
             ],
             [
              0.5555555555555556,
              "#d8576b"
             ],
             [
              0.6666666666666666,
              "#ed7953"
             ],
             [
              0.7777777777777778,
              "#fb9f3a"
             ],
             [
              0.8888888888888888,
              "#fdca26"
             ],
             [
              1,
              "#f0f921"
             ]
            ],
            "type": "histogram2dcontour"
           }
          ],
          "mesh3d": [
           {
            "colorbar": {
             "outlinewidth": 0,
             "ticks": ""
            },
            "type": "mesh3d"
           }
          ],
          "parcoords": [
           {
            "line": {
             "colorbar": {
              "outlinewidth": 0,
              "ticks": ""
             }
            },
            "type": "parcoords"
           }
          ],
          "pie": [
           {
            "automargin": true,
            "type": "pie"
           }
          ],
          "scatter": [
           {
            "marker": {
             "colorbar": {
              "outlinewidth": 0,
              "ticks": ""
             }
            },
            "type": "scatter"
           }
          ],
          "scatter3d": [
           {
            "line": {
             "colorbar": {
              "outlinewidth": 0,
              "ticks": ""
             }
            },
            "marker": {
             "colorbar": {
              "outlinewidth": 0,
              "ticks": ""
             }
            },
            "type": "scatter3d"
           }
          ],
          "scattercarpet": [
           {
            "marker": {
             "colorbar": {
              "outlinewidth": 0,
              "ticks": ""
             }
            },
            "type": "scattercarpet"
           }
          ],
          "scattergeo": [
           {
            "marker": {
             "colorbar": {
              "outlinewidth": 0,
              "ticks": ""
             }
            },
            "type": "scattergeo"
           }
          ],
          "scattergl": [
           {
            "marker": {
             "colorbar": {
              "outlinewidth": 0,
              "ticks": ""
             }
            },
            "type": "scattergl"
           }
          ],
          "scattermapbox": [
           {
            "marker": {
             "colorbar": {
              "outlinewidth": 0,
              "ticks": ""
             }
            },
            "type": "scattermapbox"
           }
          ],
          "scatterpolar": [
           {
            "marker": {
             "colorbar": {
              "outlinewidth": 0,
              "ticks": ""
             }
            },
            "type": "scatterpolar"
           }
          ],
          "scatterpolargl": [
           {
            "marker": {
             "colorbar": {
              "outlinewidth": 0,
              "ticks": ""
             }
            },
            "type": "scatterpolargl"
           }
          ],
          "scatterternary": [
           {
            "marker": {
             "colorbar": {
              "outlinewidth": 0,
              "ticks": ""
             }
            },
            "type": "scatterternary"
           }
          ],
          "surface": [
           {
            "colorbar": {
             "outlinewidth": 0,
             "ticks": ""
            },
            "colorscale": [
             [
              0,
              "#0d0887"
             ],
             [
              0.1111111111111111,
              "#46039f"
             ],
             [
              0.2222222222222222,
              "#7201a8"
             ],
             [
              0.3333333333333333,
              "#9c179e"
             ],
             [
              0.4444444444444444,
              "#bd3786"
             ],
             [
              0.5555555555555556,
              "#d8576b"
             ],
             [
              0.6666666666666666,
              "#ed7953"
             ],
             [
              0.7777777777777778,
              "#fb9f3a"
             ],
             [
              0.8888888888888888,
              "#fdca26"
             ],
             [
              1,
              "#f0f921"
             ]
            ],
            "type": "surface"
           }
          ],
          "table": [
           {
            "cells": {
             "fill": {
              "color": "#EBF0F8"
             },
             "line": {
              "color": "white"
             }
            },
            "header": {
             "fill": {
              "color": "#C8D4E3"
             },
             "line": {
              "color": "white"
             }
            },
            "type": "table"
           }
          ]
         },
         "layout": {
          "annotationdefaults": {
           "arrowcolor": "#2a3f5f",
           "arrowhead": 0,
           "arrowwidth": 1
          },
          "autotypenumbers": "strict",
          "coloraxis": {
           "colorbar": {
            "outlinewidth": 0,
            "ticks": ""
           }
          },
          "colorscale": {
           "diverging": [
            [
             0,
             "#8e0152"
            ],
            [
             0.1,
             "#c51b7d"
            ],
            [
             0.2,
             "#de77ae"
            ],
            [
             0.3,
             "#f1b6da"
            ],
            [
             0.4,
             "#fde0ef"
            ],
            [
             0.5,
             "#f7f7f7"
            ],
            [
             0.6,
             "#e6f5d0"
            ],
            [
             0.7,
             "#b8e186"
            ],
            [
             0.8,
             "#7fbc41"
            ],
            [
             0.9,
             "#4d9221"
            ],
            [
             1,
             "#276419"
            ]
           ],
           "sequential": [
            [
             0,
             "#0d0887"
            ],
            [
             0.1111111111111111,
             "#46039f"
            ],
            [
             0.2222222222222222,
             "#7201a8"
            ],
            [
             0.3333333333333333,
             "#9c179e"
            ],
            [
             0.4444444444444444,
             "#bd3786"
            ],
            [
             0.5555555555555556,
             "#d8576b"
            ],
            [
             0.6666666666666666,
             "#ed7953"
            ],
            [
             0.7777777777777778,
             "#fb9f3a"
            ],
            [
             0.8888888888888888,
             "#fdca26"
            ],
            [
             1,
             "#f0f921"
            ]
           ],
           "sequentialminus": [
            [
             0,
             "#0d0887"
            ],
            [
             0.1111111111111111,
             "#46039f"
            ],
            [
             0.2222222222222222,
             "#7201a8"
            ],
            [
             0.3333333333333333,
             "#9c179e"
            ],
            [
             0.4444444444444444,
             "#bd3786"
            ],
            [
             0.5555555555555556,
             "#d8576b"
            ],
            [
             0.6666666666666666,
             "#ed7953"
            ],
            [
             0.7777777777777778,
             "#fb9f3a"
            ],
            [
             0.8888888888888888,
             "#fdca26"
            ],
            [
             1,
             "#f0f921"
            ]
           ]
          },
          "colorway": [
           "#636efa",
           "#EF553B",
           "#00cc96",
           "#ab63fa",
           "#FFA15A",
           "#19d3f3",
           "#FF6692",
           "#B6E880",
           "#FF97FF",
           "#FECB52"
          ],
          "font": {
           "color": "#2a3f5f"
          },
          "geo": {
           "bgcolor": "white",
           "lakecolor": "white",
           "landcolor": "#E5ECF6",
           "showlakes": true,
           "showland": true,
           "subunitcolor": "white"
          },
          "hoverlabel": {
           "align": "left"
          },
          "hovermode": "closest",
          "mapbox": {
           "style": "light"
          },
          "paper_bgcolor": "white",
          "plot_bgcolor": "#E5ECF6",
          "polar": {
           "angularaxis": {
            "gridcolor": "white",
            "linecolor": "white",
            "ticks": ""
           },
           "bgcolor": "#E5ECF6",
           "radialaxis": {
            "gridcolor": "white",
            "linecolor": "white",
            "ticks": ""
           }
          },
          "scene": {
           "xaxis": {
            "backgroundcolor": "#E5ECF6",
            "gridcolor": "white",
            "gridwidth": 2,
            "linecolor": "white",
            "showbackground": true,
            "ticks": "",
            "zerolinecolor": "white"
           },
           "yaxis": {
            "backgroundcolor": "#E5ECF6",
            "gridcolor": "white",
            "gridwidth": 2,
            "linecolor": "white",
            "showbackground": true,
            "ticks": "",
            "zerolinecolor": "white"
           },
           "zaxis": {
            "backgroundcolor": "#E5ECF6",
            "gridcolor": "white",
            "gridwidth": 2,
            "linecolor": "white",
            "showbackground": true,
            "ticks": "",
            "zerolinecolor": "white"
           }
          },
          "shapedefaults": {
           "line": {
            "color": "#2a3f5f"
           }
          },
          "ternary": {
           "aaxis": {
            "gridcolor": "white",
            "linecolor": "white",
            "ticks": ""
           },
           "baxis": {
            "gridcolor": "white",
            "linecolor": "white",
            "ticks": ""
           },
           "bgcolor": "#E5ECF6",
           "caxis": {
            "gridcolor": "white",
            "linecolor": "white",
            "ticks": ""
           }
          },
          "title": {
           "x": 0.05
          },
          "xaxis": {
           "automargin": true,
           "gridcolor": "white",
           "linecolor": "white",
           "ticks": "",
           "title": {
            "standoff": 15
           },
           "zerolinecolor": "white",
           "zerolinewidth": 2
          },
          "yaxis": {
           "automargin": true,
           "gridcolor": "white",
           "linecolor": "white",
           "ticks": "",
           "title": {
            "standoff": 15
           },
           "zerolinecolor": "white",
           "zerolinewidth": 2
          }
         }
        }
       }
      },
      "image/png": "[encoded data removed]",
      "text/html": [
       "<div>                            <div id=\"b4d4ea40-dbf1-4b7e-835c-5d6cdf73ccce\" class=\"plotly-graph-div\" style=\"height:525px; width:100%;\"></div>            <script type=\"text/javascript\">                require([\"plotly\"], function(Plotly) {                    window.PLOTLYENV=window.PLOTLYENV || {};                                    if (document.getElementById(\"b4d4ea40-dbf1-4b7e-835c-5d6cdf73ccce\")) {                    Plotly.newPlot(                        \"b4d4ea40-dbf1-4b7e-835c-5d6cdf73ccce\",                        [{\"branchvalues\":\"total\",\"customdata\":[[12.514554455445545],[13.920198019801981],[11.774059405940594],[14.513465346534653],[12.324257425742575],[9.895742574257426],[11.064851485148514],[9.847722772277228],[10.343366336633665],[10.484851485148516],[10.925148514851486],[10.30039603960396],[10.255346534653466],[13.421980198019803],[10.301881188118813],[10.702376237623763],[11.154455445544556],[9.215841584158415],[14.217722772277227],[10.913465346534654],[14.240792079207921],[10.456831683168316],[10.013465346534653],[1.8562376237623759],[9.601485148514852],[6.56970297029703],[13.225544554455444],[10.43970297029703],[10.600396039603961],[14.957227722772277],[8.109603960396038],[12.53960396039604],[11.669900990099011],[10.628811881188119],[10.914554455445543],[9.709702970297029],[11.231881188118813],[19.367920792079207],[9.50950495049505],[9.949900990099009],[10.184752475247526],[12.015643564356434],[2.8665346534653464],[10.915049504950495],[11.285148514851487],[11.288415841584158],[10.472376237623763],[9.254356435643565],[12.666633663366335],[13.8109900990099],[9.98960396039604],[10.206336633663366],[7.955544554455446],[9.37],[10.779009900990099],[11.292574257425741],[12.370990099009902],[13.877722772277227],[12.580099009900989],[9.922376237623762],[11.760594059405943],[15.22029702970297],[3.733861386138614],[10.166930693069306],[7.587326732673268],[9.959504950495049],[10.317128712871288],[5.52039603960396],[10.102277227722773],[10.385841584158417],[9.12970297029703],[10.700000000000001],[13.155841584158416],[10.36039603960396],[10.432574257425744],[10.767821782178217],[8.388118811881188],[10.003069306930694],[10.645544554455446],[10.317524752475247],[8.684059405940594],[2.2242574257425742],[9.65059405940594],[9.278217821782178],[10.817425742574256],[11.885049504950496],[14.67],[13.963960396039603],[12.997425742574258],[11.378811881188119],[10.714455445544555],[3.144653465346535],[11.720990099009901],[17.013069306930692],[10.117722772277228],[17.008415841584156],[5.44990099009901],[11.932772277227723],[1.6042574257425744],[12.083564356435645],[11.614602357728254],[10.647081055017615],[12.096028639822642],[10.680607349096928],[8.661658444289227],[13.131407725972272],[11.15473038023122],[11.756761961521288],[6.952311896613956],[10.921244769518978],[15.528805704977264],[10.179763192220818],[12.139840762993177],[12.253979228226026],[10.670872294808577]],\"domain\":{\"x\":[0.0,1.0],\"y\":[0.0,1.0]},\"hovertemplate\":\"labels=%{label}<br>max=%{value}<br>parent=%{parent}<br>id=%{id}<br>perf=%{color}<extra></extra>\",\"ids\":[\"Germanic/Afrikaans\",\"Afro-Asiatic/Amharic\",\"Afro-Asiatic/Arabic\",\"Other IE/Armenian\",\"Indo-Aryan/Assamese\",\"Romance/Asturian\",\"Turkic/Azerbaijani\",\"Balto-Slavic/Belarusian\",\"Indo-Aryan/Bengali\",\"Balto-Slavic/Bosnian\",\"Balto-Slavic/Bulgarian\",\"Sino-Tibetan+Kra-Dai/Burmese\",\"Romance/Catalan\",\"Austronesian/Cebuano\",\"Balto-Slavic/Croatian\",\"Balto-Slavic/Czech\",\"Germanic/Danish\",\"Germanic/Dutch\",\"Germanic/English\",\"Uralic/Estonian\",\"Austronesian/Filipino  (Tagalog)\",\"Uralic/Finnish\",\"Romance/French\",\"Nilotic+Other AC/Fula\",\"Romance/Galician\",\"Bantu/Ganda\",\"Other/Georgian\",\"Germanic/German\",\"Other IE/Greek\",\"Indo-Aryan/Gujarati\",\"Afro-Asiatic/Hausa\",\"Afro-Asiatic/Hebrew\",\"Indo-Aryan/Hindi\",\"Uralic/Hungarian\",\"Germanic/Icelandic\",\"Nilotic+Other AC/Igbo\",\"Austronesian/Indonesian\",\"Other IE/Irish\",\"Romance/Italian\",\"Other/Japanese\",\"Austronesian/Javanese\",\"Romance/Kabuverdianu\",\"Bantu/Kamba\",\"Dravidian/Kannada\",\"Turkic/Kazakh\",\"Austro-Asiatic/Khmer\",\"Other/Korean\",\"Turkic/Kyrgyz\",\"Sino-Tibetan+Kra-Dai/Lao\",\"Balto-Slavic/Latvian\",\"Bantu/Lingala\",\"Balto-Slavic/Lithuanian\",\"Nilotic+Other AC/Luo\",\"Germanic/Luxembourgish\",\"Balto-Slavic/Macedonian\",\"Austronesian/Malay\",\"Dravidian/Malayalam\",\"Afro-Asiatic/Maltese\",\"Indo-Aryan/Marathi\",\"Other/Mongolian\",\"Austronesian/M\\u0101ori\",\"Indo-Aryan/Nepali\",\"Bantu/Northern Sotho\",\"Germanic/Norwegian\",\"Bantu/Nyanja\",\"Romance/Occitan\",\"Indo-Aryan/Oriya\",\"Afro-Asiatic/Oromo\",\"Indo-Aryan/Pashto\",\"Indo-Aryan/Persian\",\"Balto-Slavic/Polish\",\"Romance/Portuguese   (Brazil)\",\"Indo-Aryan/Punjabi\",\"Romance/Romanian\",\"Balto-Slavic/Russian\",\"Balto-Slavic/Serbian\",\"Bantu/Shona\",\"Indo-Aryan/Sindhi\",\"Balto-Slavic/Slovak\",\"Balto-Slavic/Slovenian\",\"Afro-Asiatic/Somali\",\"Indo-Aryan/Sorani Kurdish\",\"Romance/Spanish   (Latin America)\",\"Bantu/Swahili\",\"Germanic/Swedish\",\"Indo-Aryan/Tajik\",\"Dravidian/Tamil\",\"Dravidian/Telugu\",\"Sino-Tibetan+Kra-Dai/Thai\",\"Turkic/Turkish\",\"Balto-Slavic/Ukrainian\",\"Bantu/Umbundu\",\"Indo-Aryan/Urdu\",\"Turkic/Uzbek\",\"Austro-Asiatic/Vietnamese\",\"Other IE/Welsh\",\"Nilotic+Other AC/Wolof\",\"Bantu/Xhosa\",\"Nilotic+Other AC/Yoruba\",\"Bantu/Zulu\",\"Afro-Asiatic\",\"Austro-Asiatic\",\"Austronesian\",\"Balto-Slavic\",\"Bantu\",\"Dravidian\",\"Germanic\",\"Indo-Aryan\",\"Nilotic+Other AC\",\"Other\",\"Other IE\",\"Romance\",\"Sino-Tibetan+Kra-Dai\",\"Turkic\",\"Uralic\"],\"labels\":[\"Afrikaans\",\"Amharic\",\"Arabic\",\"Armenian\",\"Assamese\",\"Asturian\",\"Azerbaijani\",\"Belarusian\",\"Bengali\",\"Bosnian\",\"Bulgarian\",\"Burmese\",\"Catalan\",\"Cebuano\",\"Croatian\",\"Czech\",\"Danish\",\"Dutch\",\"English\",\"Estonian\",\"Filipino  (Tagalog)\",\"Finnish\",\"French\",\"Fula\",\"Galician\",\"Ganda\",\"Georgian\",\"German\",\"Greek\",\"Gujarati\",\"Hausa\",\"Hebrew\",\"Hindi\",\"Hungarian\",\"Icelandic\",\"Igbo\",\"Indonesian\",\"Irish\",\"Italian\",\"Japanese\",\"Javanese\",\"Kabuverdianu\",\"Kamba\",\"Kannada\",\"Kazakh\",\"Khmer\",\"Korean\",\"Kyrgyz\",\"Lao\",\"Latvian\",\"Lingala\",\"Lithuanian\",\"Luo\",\"Luxembourgish\",\"Macedonian\",\"Malay\",\"Malayalam\",\"Maltese\",\"Marathi\",\"Mongolian\",\"M\\u0101ori\",\"Nepali\",\"Northern Sotho\",\"Norwegian\",\"Nyanja\",\"Occitan\",\"Oriya\",\"Oromo\",\"Pashto\",\"Persian\",\"Polish\",\"Portuguese   (Brazil)\",\"Punjabi\",\"Romanian\",\"Russian\",\"Serbian\",\"Shona\",\"Sindhi\",\"Slovak\",\"Slovenian\",\"Somali\",\"Sorani Kurdish\",\"Spanish   (Latin America)\",\"Swahili\",\"Swedish\",\"Tajik\",\"Tamil\",\"Telugu\",\"Thai\",\"Turkish\",\"Ukrainian\",\"Umbundu\",\"Urdu\",\"Uzbek\",\"Vietnamese\",\"Welsh\",\"Wolof\",\"Xhosa\",\"Yoruba\",\"Zulu\",\"Afro-Asiatic\",\"Austro-Asiatic\",\"Austronesian\",\"Balto-Slavic\",\"Bantu\",\"Dravidian\",\"Germanic\",\"Indo-Aryan\",\"Nilotic+Other AC\",\"Other\",\"Other IE\",\"Romance\",\"Sino-Tibetan+Kra-Dai\",\"Turkic\",\"Uralic\"],\"marker\":{\"coloraxis\":\"coloraxis\",\"colors\":[12.514554455445545,13.920198019801981,11.774059405940594,14.513465346534653,12.324257425742575,9.895742574257426,11.064851485148514,9.847722772277228,10.343366336633665,10.484851485148516,10.925148514851486,10.30039603960396,10.255346534653466,13.421980198019803,10.301881188118813,10.702376237623763,11.154455445544556,9.215841584158415,14.217722772277227,10.913465346534654,14.240792079207921,10.456831683168316,10.013465346534653,1.8562376237623759,9.601485148514852,6.56970297029703,13.225544554455444,10.43970297029703,10.600396039603961,14.957227722772277,8.109603960396038,12.53960396039604,11.669900990099011,10.628811881188119,10.914554455445543,9.709702970297029,11.231881188118813,19.367920792079207,9.50950495049505,9.949900990099009,10.184752475247526,12.015643564356434,2.8665346534653464,10.915049504950495,11.285148514851487,11.288415841584158,10.472376237623763,9.254356435643565,12.666633663366335,13.8109900990099,9.98960396039604,10.206336633663366,7.955544554455446,9.37,10.779009900990099,11.292574257425741,12.370990099009902,13.877722772277227,12.580099009900989,9.922376237623762,11.760594059405943,15.22029702970297,3.733861386138614,10.166930693069306,7.587326732673268,9.959504950495049,10.317128712871288,5.52039603960396,10.102277227722773,10.385841584158417,9.12970297029703,10.700000000000001,13.155841584158416,10.36039603960396,10.432574257425744,10.767821782178217,8.388118811881188,10.003069306930694,10.645544554455446,10.317524752475247,8.684059405940594,2.2242574257425742,9.65059405940594,9.278217821782178,10.817425742574256,11.885049504950496,14.67,13.963960396039603,12.997425742574258,11.378811881188119,10.714455445544555,3.144653465346535,11.720990099009901,17.013069306930692,10.117722772277228,17.008415841584156,5.44990099009901,11.932772277227723,1.6042574257425744,12.083564356435645,11.614602357728254,10.647081055017615,12.096028639822642,10.680607349096928,8.661658444289227,13.131407725972272,11.15473038023122,11.756761961521288,6.952311896613956,10.921244769518978,15.528805704977264,10.179763192220818,12.139840762993177,12.253979228226026,10.670872294808577]},\"name\":\"\",\"parents\":[\"Germanic\",\"Afro-Asiatic\",\"Afro-Asiatic\",\"Other IE\",\"Indo-Aryan\",\"Romance\",\"Turkic\",\"Balto-Slavic\",\"Indo-Aryan\",\"Balto-Slavic\",\"Balto-Slavic\",\"Sino-Tibetan+Kra-Dai\",\"Romance\",\"Austronesian\",\"Balto-Slavic\",\"Balto-Slavic\",\"Germanic\",\"Germanic\",\"Germanic\",\"Uralic\",\"Austronesian\",\"Uralic\",\"Romance\",\"Nilotic+Other AC\",\"Romance\",\"Bantu\",\"Other\",\"Germanic\",\"Other IE\",\"Indo-Aryan\",\"Afro-Asiatic\",\"Afro-Asiatic\",\"Indo-Aryan\",\"Uralic\",\"Germanic\",\"Nilotic+Other AC\",\"Austronesian\",\"Other IE\",\"Romance\",\"Other\",\"Austronesian\",\"Romance\",\"Bantu\",\"Dravidian\",\"Turkic\",\"Austro-Asiatic\",\"Other\",\"Turkic\",\"Sino-Tibetan+Kra-Dai\",\"Balto-Slavic\",\"Bantu\",\"Balto-Slavic\",\"Nilotic+Other AC\",\"Germanic\",\"Balto-Slavic\",\"Austronesian\",\"Dravidian\",\"Afro-Asiatic\",\"Indo-Aryan\",\"Other\",\"Austronesian\",\"Indo-Aryan\",\"Bantu\",\"Germanic\",\"Bantu\",\"Romance\",\"Indo-Aryan\",\"Afro-Asiatic\",\"Indo-Aryan\",\"Indo-Aryan\",\"Balto-Slavic\",\"Romance\",\"Indo-Aryan\",\"Romance\",\"Balto-Slavic\",\"Balto-Slavic\",\"Bantu\",\"Indo-Aryan\",\"Balto-Slavic\",\"Balto-Slavic\",\"Afro-Asiatic\",\"Indo-Aryan\",\"Romance\",\"Bantu\",\"Germanic\",\"Indo-Aryan\",\"Dravidian\",\"Dravidian\",\"Sino-Tibetan+Kra-Dai\",\"Turkic\",\"Balto-Slavic\",\"Bantu\",\"Indo-Aryan\",\"Turkic\",\"Austro-Asiatic\",\"Other IE\",\"Nilotic+Other AC\",\"Bantu\",\"Nilotic+Other AC\",\"Bantu\",\"\",\"\",\"\",\"\",\"\",\"\",\"\",\"\",\"\",\"\",\"\",\"\",\"\",\"\",\"\"],\"type\":\"sunburst\",\"values\":[23.14019801980198,15.658316831683168,18.247623762376236,18.41227722772277,13.18990099009901,17.567029702970295,14.123861386138614,14.204851485148515,16.64059405940594,21.680198019801978,20.922871287128714,13.335841584158416,20.2919801980198,19.074059405940595,20.57881188118812,20.853960396039604,22.59148514851485,18.463960396039603,26.363564356435642,20.477425742574255,21.002970297029705,19.296435643564358,20.968019801980198,3.129009900990099,20.282574257425743,8.565940594059406,16.487326732673267,21.13118811881188,18.998217821782177,15.078415841584158,10.917920792079208,20.42138613861386,19.2680198019802,19.91089108910891,18.613168316831683,12.098514851485149,20.9080198019802,20.312970297029704,19.2890099009901,16.217821782178216,16.218712871287128,16.36118811881188,5.4183168316831685,12.731485148514853,13.952178217821784,15.764257425742574,17.04029702970297,12.968118811881189,16.483663366336632,20.214158415841585,11.97980198019802,19.033663366336633,10.352970297029703,16.27039603960396,20.98257425742574,20.673960396039604,17.11762376237624,23.33831683168317,17.49633663366337,14.606336633663366,13.895544554455446,17.75851485148515,6.095940594059405,20.474851485148516,12.306237623762376,19.16128712871287,10.882376237623763,6.667425742574257,14.896039603960396,18.277326732673266,17.823564356435643,22.167326732673267,15.636831683168316,21.697326732673265,19.756732673267326,21.065247524752476,12.891782178217822,10.665940594059405,20.90257425742574,20.008316831683167,10.857623762376237,4.775940594059406,18.27029702970297,17.064950495049505,22.43990099009901,14.603960396039604,16.95257425742574,18.19821782178218,18.47871287128713,19.663663366336632,20.265742574257423,5.353366336633664,17.135346534653465,18.15910891089109,19.09891089108911,23.21009900990099,7.217425742574258,14.842970297029703,3.1707920792079207,14.803960396039605,106.10861386138613,34.86316831683168,111.77326732673268,278.2932673267327,109.32326732673268,64.99990099009901,189.48871287128713,206.30554455445545,35.96871287128713,64.35178217821782,80.93356435643564,196.0560396039604,48.298217821782174,78.8669306930693,59.68475247524752]}],                        {\"coloraxis\":{\"colorbar\":{\"title\":{\"text\":\"perf\"}},\"colorscale\":[[0.0,\"rgb(103,0,31)\"],[0.1,\"rgb(178,24,43)\"],[0.2,\"rgb(214,96,77)\"],[0.3,\"rgb(244,165,130)\"],[0.4,\"rgb(253,219,199)\"],[0.5,\"rgb(247,247,247)\"],[0.6,\"rgb(209,229,240)\"],[0.7,\"rgb(146,197,222)\"],[0.8,\"rgb(67,147,195)\"],[0.9,\"rgb(33,102,172)\"],[1.0,\"rgb(5,48,97)\"]]},\"legend\":{\"tracegroupgap\":0},\"margin\":{\"t\":60},\"template\":{\"data\":{\"bar\":[{\"error_x\":{\"color\":\"#2a3f5f\"},\"error_y\":{\"color\":\"#2a3f5f\"},\"marker\":{\"line\":{\"color\":\"#E5ECF6\",\"width\":0.5},\"pattern\":{\"fillmode\":\"overlay\",\"size\":10,\"solidity\":0.2}},\"type\":\"bar\"}],\"barpolar\":[{\"marker\":{\"line\":{\"color\":\"#E5ECF6\",\"width\":0.5},\"pattern\":{\"fillmode\":\"overlay\",\"size\":10,\"solidity\":0.2}},\"type\":\"barpolar\"}],\"carpet\":[{\"aaxis\":{\"endlinecolor\":\"#2a3f5f\",\"gridcolor\":\"white\",\"linecolor\":\"white\",\"minorgridcolor\":\"white\",\"startlinecolor\":\"#2a3f5f\"},\"baxis\":{\"endlinecolor\":\"#2a3f5f\",\"gridcolor\":\"white\",\"linecolor\":\"white\",\"minorgridcolor\":\"white\",\"startlinecolor\":\"#2a3f5f\"},\"type\":\"carpet\"}],\"choropleth\":[{\"colorbar\":{\"outlinewidth\":0,\"ticks\":\"\"},\"type\":\"choropleth\"}],\"contour\":[{\"colorbar\":{\"outlinewidth\":0,\"ticks\":\"\"},\"colorscale\":[[0.0,\"#0d0887\"],[0.1111111111111111,\"#46039f\"],[0.2222222222222222,\"#7201a8\"],[0.3333333333333333,\"#9c179e\"],[0.4444444444444444,\"#bd3786\"],[0.5555555555555556,\"#d8576b\"],[0.6666666666666666,\"#ed7953\"],[0.7777777777777778,\"#fb9f3a\"],[0.8888888888888888,\"#fdca26\"],[1.0,\"#f0f921\"]],\"type\":\"contour\"}],\"contourcarpet\":[{\"colorbar\":{\"outlinewidth\":0,\"ticks\":\"\"},\"type\":\"contourcarpet\"}],\"heatmap\":[{\"colorbar\":{\"outlinewidth\":0,\"ticks\":\"\"},\"colorscale\":[[0.0,\"#0d0887\"],[0.1111111111111111,\"#46039f\"],[0.2222222222222222,\"#7201a8\"],[0.3333333333333333,\"#9c179e\"],[0.4444444444444444,\"#bd3786\"],[0.5555555555555556,\"#d8576b\"],[0.6666666666666666,\"#ed7953\"],[0.7777777777777778,\"#fb9f3a\"],[0.8888888888888888,\"#fdca26\"],[1.0,\"#f0f921\"]],\"type\":\"heatmap\"}],\"heatmapgl\":[{\"colorbar\":{\"outlinewidth\":0,\"ticks\":\"\"},\"colorscale\":[[0.0,\"#0d0887\"],[0.1111111111111111,\"#46039f\"],[0.2222222222222222,\"#7201a8\"],[0.3333333333333333,\"#9c179e\"],[0.4444444444444444,\"#bd3786\"],[0.5555555555555556,\"#d8576b\"],[0.6666666666666666,\"#ed7953\"],[0.7777777777777778,\"#fb9f3a\"],[0.8888888888888888,\"#fdca26\"],[1.0,\"#f0f921\"]],\"type\":\"heatmapgl\"}],\"histogram\":[{\"marker\":{\"pattern\":{\"fillmode\":\"overlay\",\"size\":10,\"solidity\":0.2}},\"type\":\"histogram\"}],\"histogram2d\":[{\"colorbar\":{\"outlinewidth\":0,\"ticks\":\"\"},\"colorscale\":[[0.0,\"#0d0887\"],[0.1111111111111111,\"#46039f\"],[0.2222222222222222,\"#7201a8\"],[0.3333333333333333,\"#9c179e\"],[0.4444444444444444,\"#bd3786\"],[0.5555555555555556,\"#d8576b\"],[0.6666666666666666,\"#ed7953\"],[0.7777777777777778,\"#fb9f3a\"],[0.8888888888888888,\"#fdca26\"],[1.0,\"#f0f921\"]],\"type\":\"histogram2d\"}],\"histogram2dcontour\":[{\"colorbar\":{\"outlinewidth\":0,\"ticks\":\"\"},\"colorscale\":[[0.0,\"#0d0887\"],[0.1111111111111111,\"#46039f\"],[0.2222222222222222,\"#7201a8\"],[0.3333333333333333,\"#9c179e\"],[0.4444444444444444,\"#bd3786\"],[0.5555555555555556,\"#d8576b\"],[0.6666666666666666,\"#ed7953\"],[0.7777777777777778,\"#fb9f3a\"],[0.8888888888888888,\"#fdca26\"],[1.0,\"#f0f921\"]],\"type\":\"histogram2dcontour\"}],\"mesh3d\":[{\"colorbar\":{\"outlinewidth\":0,\"ticks\":\"\"},\"type\":\"mesh3d\"}],\"parcoords\":[{\"line\":{\"colorbar\":{\"outlinewidth\":0,\"ticks\":\"\"}},\"type\":\"parcoords\"}],\"pie\":[{\"automargin\":true,\"type\":\"pie\"}],\"scatter\":[{\"marker\":{\"colorbar\":{\"outlinewidth\":0,\"ticks\":\"\"}},\"type\":\"scatter\"}],\"scatter3d\":[{\"line\":{\"colorbar\":{\"outlinewidth\":0,\"ticks\":\"\"}},\"marker\":{\"colorbar\":{\"outlinewidth\":0,\"ticks\":\"\"}},\"type\":\"scatter3d\"}],\"scattercarpet\":[{\"marker\":{\"colorbar\":{\"outlinewidth\":0,\"ticks\":\"\"}},\"type\":\"scattercarpet\"}],\"scattergeo\":[{\"marker\":{\"colorbar\":{\"outlinewidth\":0,\"ticks\":\"\"}},\"type\":\"scattergeo\"}],\"scattergl\":[{\"marker\":{\"colorbar\":{\"outlinewidth\":0,\"ticks\":\"\"}},\"type\":\"scattergl\"}],\"scattermapbox\":[{\"marker\":{\"colorbar\":{\"outlinewidth\":0,\"ticks\":\"\"}},\"type\":\"scattermapbox\"}],\"scatterpolar\":[{\"marker\":{\"colorbar\":{\"outlinewidth\":0,\"ticks\":\"\"}},\"type\":\"scatterpolar\"}],\"scatterpolargl\":[{\"marker\":{\"colorbar\":{\"outlinewidth\":0,\"ticks\":\"\"}},\"type\":\"scatterpolargl\"}],\"scatterternary\":[{\"marker\":{\"colorbar\":{\"outlinewidth\":0,\"ticks\":\"\"}},\"type\":\"scatterternary\"}],\"surface\":[{\"colorbar\":{\"outlinewidth\":0,\"ticks\":\"\"},\"colorscale\":[[0.0,\"#0d0887\"],[0.1111111111111111,\"#46039f\"],[0.2222222222222222,\"#7201a8\"],[0.3333333333333333,\"#9c179e\"],[0.4444444444444444,\"#bd3786\"],[0.5555555555555556,\"#d8576b\"],[0.6666666666666666,\"#ed7953\"],[0.7777777777777778,\"#fb9f3a\"],[0.8888888888888888,\"#fdca26\"],[1.0,\"#f0f921\"]],\"type\":\"surface\"}],\"table\":[{\"cells\":{\"fill\":{\"color\":\"#EBF0F8\"},\"line\":{\"color\":\"white\"}},\"header\":{\"fill\":{\"color\":\"#C8D4E3\"},\"line\":{\"color\":\"white\"}},\"type\":\"table\"}]},\"layout\":{\"annotationdefaults\":{\"arrowcolor\":\"#2a3f5f\",\"arrowhead\":0,\"arrowwidth\":1},\"autotypenumbers\":\"strict\",\"coloraxis\":{\"colorbar\":{\"outlinewidth\":0,\"ticks\":\"\"}},\"colorscale\":{\"diverging\":[[0,\"#8e0152\"],[0.1,\"#c51b7d\"],[0.2,\"#de77ae\"],[0.3,\"#f1b6da\"],[0.4,\"#fde0ef\"],[0.5,\"#f7f7f7\"],[0.6,\"#e6f5d0\"],[0.7,\"#b8e186\"],[0.8,\"#7fbc41\"],[0.9,\"#4d9221\"],[1,\"#276419\"]],\"sequential\":[[0.0,\"#0d0887\"],[0.1111111111111111,\"#46039f\"],[0.2222222222222222,\"#7201a8\"],[0.3333333333333333,\"#9c179e\"],[0.4444444444444444,\"#bd3786\"],[0.5555555555555556,\"#d8576b\"],[0.6666666666666666,\"#ed7953\"],[0.7777777777777778,\"#fb9f3a\"],[0.8888888888888888,\"#fdca26\"],[1.0,\"#f0f921\"]],\"sequentialminus\":[[0.0,\"#0d0887\"],[0.1111111111111111,\"#46039f\"],[0.2222222222222222,\"#7201a8\"],[0.3333333333333333,\"#9c179e\"],[0.4444444444444444,\"#bd3786\"],[0.5555555555555556,\"#d8576b\"],[0.6666666666666666,\"#ed7953\"],[0.7777777777777778,\"#fb9f3a\"],[0.8888888888888888,\"#fdca26\"],[1.0,\"#f0f921\"]]},\"colorway\":[\"#636efa\",\"#EF553B\",\"#00cc96\",\"#ab63fa\",\"#FFA15A\",\"#19d3f3\",\"#FF6692\",\"#B6E880\",\"#FF97FF\",\"#FECB52\"],\"font\":{\"color\":\"#2a3f5f\"},\"geo\":{\"bgcolor\":\"white\",\"lakecolor\":\"white\",\"landcolor\":\"#E5ECF6\",\"showlakes\":true,\"showland\":true,\"subunitcolor\":\"white\"},\"hoverlabel\":{\"align\":\"left\"},\"hovermode\":\"closest\",\"mapbox\":{\"style\":\"light\"},\"paper_bgcolor\":\"white\",\"plot_bgcolor\":\"#E5ECF6\",\"polar\":{\"angularaxis\":{\"gridcolor\":\"white\",\"linecolor\":\"white\",\"ticks\":\"\"},\"bgcolor\":\"#E5ECF6\",\"radialaxis\":{\"gridcolor\":\"white\",\"linecolor\":\"white\",\"ticks\":\"\"}},\"scene\":{\"xaxis\":{\"backgroundcolor\":\"#E5ECF6\",\"gridcolor\":\"white\",\"gridwidth\":2,\"linecolor\":\"white\",\"showbackground\":true,\"ticks\":\"\",\"zerolinecolor\":\"white\"},\"yaxis\":{\"backgroundcolor\":\"#E5ECF6\",\"gridcolor\":\"white\",\"gridwidth\":2,\"linecolor\":\"white\",\"showbackground\":true,\"ticks\":\"\",\"zerolinecolor\":\"white\"},\"zaxis\":{\"backgroundcolor\":\"#E5ECF6\",\"gridcolor\":\"white\",\"gridwidth\":2,\"linecolor\":\"white\",\"showbackground\":true,\"ticks\":\"\",\"zerolinecolor\":\"white\"}},\"shapedefaults\":{\"line\":{\"color\":\"#2a3f5f\"}},\"ternary\":{\"aaxis\":{\"gridcolor\":\"white\",\"linecolor\":\"white\",\"ticks\":\"\"},\"baxis\":{\"gridcolor\":\"white\",\"linecolor\":\"white\",\"ticks\":\"\"},\"bgcolor\":\"#E5ECF6\",\"caxis\":{\"gridcolor\":\"white\",\"linecolor\":\"white\",\"ticks\":\"\"}},\"title\":{\"x\":0.05},\"xaxis\":{\"automargin\":true,\"gridcolor\":\"white\",\"linecolor\":\"white\",\"ticks\":\"\",\"title\":{\"standoff\":15},\"zerolinecolor\":\"white\",\"zerolinewidth\":2},\"yaxis\":{\"automargin\":true,\"gridcolor\":\"white\",\"linecolor\":\"white\",\"ticks\":\"\",\"title\":{\"standoff\":15},\"zerolinecolor\":\"white\",\"zerolinewidth\":2}}}},                        {\"responsive\": true}                    ).then(function(){\n",
       "                            \n",
       "var gd = document.getElementById('b4d4ea40-dbf1-4b7e-835c-5d6cdf73ccce');\n",
       "var x = new MutationObserver(function (mutations, observer) {{\n",
       "        var display = window.getComputedStyle(gd).display;\n",
       "        if (!display || display === 'none') {{\n",
       "            console.log([gd, 'removed!']);\n",
       "            Plotly.purge(gd);\n",
       "            observer.disconnect();\n",
       "        }}\n",
       "}});\n",
       "\n",
       "// Listen for the removal of the full notebook cells\n",
       "var notebookContainer = gd.closest('#notebook-container');\n",
       "if (notebookContainer) {{\n",
       "    x.observe(notebookContainer, {childList: true});\n",
       "}}\n",
       "\n",
       "// Listen for the clearing of the current output cell\n",
       "var outputEl = gd.closest('.output');\n",
       "if (outputEl) {{\n",
       "    x.observe(outputEl, {childList: true});\n",
       "}}\n",
       "\n",
       "                        })                };                });            </script>        </div>"
      ]
     },
     "metadata": {},
     "output_type": "display_data"
    }
   ],
   "source": [
    "import plotly.express as px\n",
    "newdata= dd.set_index('src').join(langnames.set_index('ISO 639-3')).reset_index()\n",
    "newdata['src']=newdata[\"index\"]\n",
    "\n",
    "fig = px.sunburst(newdata.groupby(['Language', 'Subgrouping','Family']).mean().reset_index()\n",
    ", path=['Subgrouping', 'Language'], values='max', color=\"perf\",\n",
    "color_continuous_scale='RdBu')\n",
    "fig.show()"
   ]
  },
  {
   "cell_type": "code",
   "execution_count": null,
   "id": "female-cancellation",
   "metadata": {},
   "outputs": [],
   "source": []
  },
  {
   "cell_type": "code",
   "execution_count": 312,
   "id": "received-alexander",
   "metadata": {},
   "outputs": [
    {
     "data": {
      "text/html": [
       "<div>\n",
       "<style scoped>\n",
       "    .dataframe tbody tr th:only-of-type {\n",
       "        vertical-align: middle;\n",
       "    }\n",
       "\n",
       "    .dataframe tbody tr th {\n",
       "        vertical-align: top;\n",
       "    }\n",
       "\n",
       "    .dataframe thead th {\n",
       "        text-align: right;\n",
       "    }\n",
       "</style>\n",
       "<table border=\"1\" class=\"dataframe\">\n",
       "  <thead>\n",
       "    <tr style=\"text-align: right;\">\n",
       "      <th></th>\n",
       "      <th>Language</th>\n",
       "      <th>Subgrouping</th>\n",
       "      <th>Family</th>\n",
       "      <th>perf</th>\n",
       "      <th>max</th>\n",
       "      <th>Bitext w/ En</th>\n",
       "      <th>Mono Data</th>\n",
       "    </tr>\n",
       "  </thead>\n",
       "  <tbody>\n",
       "    <tr>\n",
       "      <th>0</th>\n",
       "      <td>Afrikaans</td>\n",
       "      <td>Germanic</td>\n",
       "      <td>Indo-European</td>\n",
       "      <td>12.51</td>\n",
       "      <td>23.14</td>\n",
       "      <td>570000.00</td>\n",
       "      <td>26100000.00</td>\n",
       "    </tr>\n",
       "    <tr>\n",
       "      <th>1</th>\n",
       "      <td>Amharic</td>\n",
       "      <td>Afro-Asiatic</td>\n",
       "      <td>Afro-Asiatic</td>\n",
       "      <td>13.92</td>\n",
       "      <td>15.66</td>\n",
       "      <td>339000.00</td>\n",
       "      <td>3020000.00</td>\n",
       "    </tr>\n",
       "    <tr>\n",
       "      <th>2</th>\n",
       "      <td>Arabic</td>\n",
       "      <td>Afro-Asiatic</td>\n",
       "      <td>Afro-Asiatic</td>\n",
       "      <td>11.77</td>\n",
       "      <td>18.25</td>\n",
       "      <td>25200000.00</td>\n",
       "      <td>126000000.00</td>\n",
       "    </tr>\n",
       "    <tr>\n",
       "      <th>3</th>\n",
       "      <td>Armenian</td>\n",
       "      <td>Other IE</td>\n",
       "      <td>Indo-European</td>\n",
       "      <td>14.51</td>\n",
       "      <td>18.41</td>\n",
       "      <td>977000.00</td>\n",
       "      <td>25400000.00</td>\n",
       "    </tr>\n",
       "    <tr>\n",
       "      <th>4</th>\n",
       "      <td>Assamese</td>\n",
       "      <td>Indo-Aryan</td>\n",
       "      <td>Indo-European</td>\n",
       "      <td>12.32</td>\n",
       "      <td>13.19</td>\n",
       "      <td>43700.00</td>\n",
       "      <td>738000.00</td>\n",
       "    </tr>\n",
       "    <tr>\n",
       "      <th>...</th>\n",
       "      <td>...</td>\n",
       "      <td>...</td>\n",
       "      <td>...</td>\n",
       "      <td>...</td>\n",
       "      <td>...</td>\n",
       "      <td>...</td>\n",
       "      <td>...</td>\n",
       "    </tr>\n",
       "    <tr>\n",
       "      <th>95</th>\n",
       "      <td>Welsh</td>\n",
       "      <td>Other IE</td>\n",
       "      <td>Indo-European</td>\n",
       "      <td>17.01</td>\n",
       "      <td>23.21</td>\n",
       "      <td>826000.00</td>\n",
       "      <td>12700000.00</td>\n",
       "    </tr>\n",
       "    <tr>\n",
       "      <th>96</th>\n",
       "      <td>Wolof</td>\n",
       "      <td>Nilotic+Other AC</td>\n",
       "      <td>Atlantic-Congo</td>\n",
       "      <td>5.45</td>\n",
       "      <td>7.22</td>\n",
       "      <td>86900.00</td>\n",
       "      <td>676000.00</td>\n",
       "    </tr>\n",
       "    <tr>\n",
       "      <th>97</th>\n",
       "      <td>Xhosa</td>\n",
       "      <td>Bantu</td>\n",
       "      <td>Atlantic-Congo</td>\n",
       "      <td>11.93</td>\n",
       "      <td>14.84</td>\n",
       "      <td>130000.00</td>\n",
       "      <td>995000.00</td>\n",
       "    </tr>\n",
       "    <tr>\n",
       "      <th>98</th>\n",
       "      <td>Yoruba</td>\n",
       "      <td>Nilotic+Other AC</td>\n",
       "      <td>Atlantic-Congo</td>\n",
       "      <td>1.60</td>\n",
       "      <td>3.17</td>\n",
       "      <td>171000.00</td>\n",
       "      <td>1590000.00</td>\n",
       "    </tr>\n",
       "    <tr>\n",
       "      <th>99</th>\n",
       "      <td>Zulu</td>\n",
       "      <td>Bantu</td>\n",
       "      <td>Atlantic-Congo</td>\n",
       "      <td>12.08</td>\n",
       "      <td>14.80</td>\n",
       "      <td>123000.00</td>\n",
       "      <td>994000.00</td>\n",
       "    </tr>\n",
       "  </tbody>\n",
       "</table>\n",
       "<p>100 rows × 7 columns</p>\n",
       "</div>"
      ],
      "text/plain": [
       "     Language       Subgrouping          Family  perf   max  Bitext w/ En  \\\n",
       "0   Afrikaans          Germanic   Indo-European 12.51 23.14     570000.00   \n",
       "1     Amharic      Afro-Asiatic    Afro-Asiatic 13.92 15.66     339000.00   \n",
       "2      Arabic      Afro-Asiatic    Afro-Asiatic 11.77 18.25   25200000.00   \n",
       "3    Armenian          Other IE   Indo-European 14.51 18.41     977000.00   \n",
       "4    Assamese        Indo-Aryan   Indo-European 12.32 13.19      43700.00   \n",
       "..        ...               ...             ...   ...   ...           ...   \n",
       "95      Welsh          Other IE   Indo-European 17.01 23.21     826000.00   \n",
       "96      Wolof  Nilotic+Other AC  Atlantic-Congo  5.45  7.22      86900.00   \n",
       "97      Xhosa             Bantu  Atlantic-Congo 11.93 14.84     130000.00   \n",
       "98     Yoruba  Nilotic+Other AC  Atlantic-Congo  1.60  3.17     171000.00   \n",
       "99       Zulu             Bantu  Atlantic-Congo 12.08 14.80     123000.00   \n",
       "\n",
       "      Mono Data  \n",
       "0   26100000.00  \n",
       "1    3020000.00  \n",
       "2  126000000.00  \n",
       "3   25400000.00  \n",
       "4     738000.00  \n",
       "..          ...  \n",
       "95  12700000.00  \n",
       "96    676000.00  \n",
       "97    995000.00  \n",
       "98   1590000.00  \n",
       "99    994000.00  \n",
       "\n",
       "[100 rows x 7 columns]"
      ]
     },
     "execution_count": 312,
     "metadata": {},
     "output_type": "execute_result"
    }
   ],
   "source": [
    "newdata.groupby(['Language', 'Subgrouping','Family']).mean().reset_index()\n"
   ]
  },
  {
   "cell_type": "code",
   "execution_count": null,
   "id": "fourth-employee",
   "metadata": {},
   "outputs": [],
   "source": []
  },
  {
   "cell_type": "markdown",
   "id": "recognized-graduate",
   "metadata": {},
   "source": [
    "# Task 1 analysis "
   ]
  },
  {
   "cell_type": "code",
   "execution_count": 394,
   "id": "biblical-saying",
   "metadata": {},
   "outputs": [
    {
     "name": "stdout",
     "output_type": "stream",
     "text": [
      "***Analysis of language pairs deltas***\n",
      "TOP 5 improvements wrt to baseline\n",
      "    src  trg  perf   max\n",
      "4   eng  srp 19.08 46.79\n",
      "25  srp  eng 15.58 49.22\n",
      "20  mkd  eng 14.81 47.72\n",
      "5   est  eng 14.17 43.94\n",
      "15  hun  eng 13.37 42.00\n",
      "\\begin{tabular}{llrr}\n",
      "\\toprule\n",
      "src & trg &  perf &   max \\\\\n",
      "\\midrule\n",
      "eng & srp & 19.08 & 46.79 \\\\\n",
      "srp & eng & 15.58 & 49.22 \\\\\n",
      "mkd & eng & 14.81 & 47.72 \\\\\n",
      "est & eng & 14.17 & 43.94 \\\\\n",
      "hun & eng & 13.37 & 42.00 \\\\\n",
      "\\bottomrule\n",
      "\\end{tabular}\n",
      "\n",
      "BOTTOM 5 improvements wrt to baseline\n",
      "    src  trg  perf   max\n",
      "17  hun  hrv  9.05 31.87\n",
      "22  mkd  hrv  8.09 34.72\n",
      "13  hrv  mkd  6.96 37.68\n",
      "29  srp  mkd  6.49 41.40\n",
      "27  srp  hrv  6.13 36.40\n",
      "\\begin{tabular}{llrr}\n",
      "\\toprule\n",
      "src & trg &  perf &   max \\\\\n",
      "\\midrule\n",
      "hun & hrv &  9.05 & 31.87 \\\\\n",
      "mkd & hrv &  8.09 & 34.72 \\\\\n",
      "hrv & mkd &  6.96 & 37.68 \\\\\n",
      "srp & mkd &  6.49 & 41.40 \\\\\n",
      "srp & hrv &  6.13 & 36.40 \\\\\n",
      "\\bottomrule\n",
      "\\end{tabular}\n",
      "\n",
      "GAP between top and bottom by pair: 12.95\n",
      "AVG improv 11.318999999999997\n",
      "AVG improv into ENG 13.974\n",
      "***Analysis per of averages source language***\n",
      "TOP 5 improvements wrt to baseline\n",
      "     perf   max\n",
      "src            \n",
      "eng 14.20 41.35\n",
      "mkd 11.65 37.52\n",
      "est 11.43 36.24\n",
      "hun 11.22 35.02\n",
      "srp  9.84 38.69\n",
      "\\begin{tabular}{lrr}\n",
      "\\toprule\n",
      "{} &  perf &   max \\\\\n",
      "src &       &       \\\\\n",
      "\\midrule\n",
      "eng & 14.20 & 41.35 \\\\\n",
      "mkd & 11.65 & 37.52 \\\\\n",
      "est & 11.43 & 36.24 \\\\\n",
      "hun & 11.22 & 35.02 \\\\\n",
      "srp &  9.84 & 38.69 \\\\\n",
      "\\bottomrule\n",
      "\\end{tabular}\n",
      "\n",
      "BOTTOM 5 improvements wrt to baseline\n",
      "     perf   max\n",
      "src            \n",
      "mkd 11.65 37.52\n",
      "est 11.43 36.24\n",
      "hun 11.22 35.02\n",
      "srp  9.84 38.69\n",
      "hrv  9.58 36.72\n",
      "\\begin{tabular}{lrr}\n",
      "\\toprule\n",
      "{} &  perf &   max \\\\\n",
      "src &       &       \\\\\n",
      "\\midrule\n",
      "mkd & 11.65 & 37.52 \\\\\n",
      "est & 11.43 & 36.24 \\\\\n",
      "hun & 11.22 & 35.02 \\\\\n",
      "srp &  9.84 & 38.69 \\\\\n",
      "hrv &  9.58 & 36.72 \\\\\n",
      "\\bottomrule\n",
      "\\end{tabular}\n",
      "\n",
      "GAP between top and bottom by source: 4.616\n",
      "Analysis of averages per target language\n",
      "TOP 5 improvements wrt to baseline\n",
      "     perf   max\n",
      "trg            \n",
      "eng 13.97 45.16\n",
      "srp 13.58 39.19\n",
      "hun 10.96 33.22\n",
      "est 10.91 34.07\n",
      "mkd  9.47 38.94\n",
      "\\begin{tabular}{lrr}\n",
      "\\toprule\n",
      "{} &  perf &   max \\\\\n",
      "trg &       &       \\\\\n",
      "\\midrule\n",
      "eng & 13.97 & 45.16 \\\\\n",
      "srp & 13.58 & 39.19 \\\\\n",
      "hun & 10.96 & 33.22 \\\\\n",
      "est & 10.91 & 34.07 \\\\\n",
      "mkd &  9.47 & 38.94 \\\\\n",
      "\\bottomrule\n",
      "\\end{tabular}\n",
      "\n",
      "BOTTOM 5 improvements wrt to baseline\n",
      "     perf   max\n",
      "trg            \n",
      "srp 13.58 39.19\n",
      "hun 10.96 33.22\n",
      "est 10.91 34.07\n",
      "mkd  9.47 38.94\n",
      "hrv  9.02 34.97\n",
      "\\begin{tabular}{lrr}\n",
      "\\toprule\n",
      "{} &  perf &   max \\\\\n",
      "trg &       &       \\\\\n",
      "\\midrule\n",
      "srp & 13.58 & 39.19 \\\\\n",
      "hun & 10.96 & 33.22 \\\\\n",
      "est & 10.91 & 34.07 \\\\\n",
      "mkd &  9.47 & 38.94 \\\\\n",
      "hrv &  9.02 & 34.97 \\\\\n",
      "\\bottomrule\n",
      "\\end{tabular}\n",
      "\n",
      "GAP between top and bottom by trg: 4.958\n",
      "(0.0, 16.39869)\n",
      "(0.0, 16.13997)\n"
     ]
    },
    {
     "data": {
      "text/html": [
       "<div>\n",
       "<style scoped>\n",
       "    .dataframe tbody tr th:only-of-type {\n",
       "        vertical-align: middle;\n",
       "    }\n",
       "\n",
       "    .dataframe tbody tr th {\n",
       "        vertical-align: top;\n",
       "    }\n",
       "\n",
       "    .dataframe thead th {\n",
       "        text-align: right;\n",
       "    }\n",
       "</style>\n",
       "<table border=\"1\" class=\"dataframe\">\n",
       "  <thead>\n",
       "    <tr style=\"text-align: right;\">\n",
       "      <th></th>\n",
       "      <th>src</th>\n",
       "      <th>trg</th>\n",
       "      <th>perf</th>\n",
       "      <th>max</th>\n",
       "    </tr>\n",
       "  </thead>\n",
       "  <tbody>\n",
       "    <tr>\n",
       "      <th>0</th>\n",
       "      <td>eng</td>\n",
       "      <td>est</td>\n",
       "      <td>12.91</td>\n",
       "      <td>38.69</td>\n",
       "    </tr>\n",
       "    <tr>\n",
       "      <th>1</th>\n",
       "      <td>eng</td>\n",
       "      <td>hrv</td>\n",
       "      <td>12.54</td>\n",
       "      <td>39.01</td>\n",
       "    </tr>\n",
       "    <tr>\n",
       "      <th>2</th>\n",
       "      <td>eng</td>\n",
       "      <td>hun</td>\n",
       "      <td>13.31</td>\n",
       "      <td>37.73</td>\n",
       "    </tr>\n",
       "    <tr>\n",
       "      <th>3</th>\n",
       "      <td>eng</td>\n",
       "      <td>mkd</td>\n",
       "      <td>13.15</td>\n",
       "      <td>44.52</td>\n",
       "    </tr>\n",
       "    <tr>\n",
       "      <th>4</th>\n",
       "      <td>eng</td>\n",
       "      <td>srp</td>\n",
       "      <td>19.08</td>\n",
       "      <td>46.79</td>\n",
       "    </tr>\n",
       "    <tr>\n",
       "      <th>5</th>\n",
       "      <td>est</td>\n",
       "      <td>eng</td>\n",
       "      <td>14.17</td>\n",
       "      <td>43.94</td>\n",
       "    </tr>\n",
       "    <tr>\n",
       "      <th>6</th>\n",
       "      <td>est</td>\n",
       "      <td>hrv</td>\n",
       "      <td>9.27</td>\n",
       "      <td>32.83</td>\n",
       "    </tr>\n",
       "    <tr>\n",
       "      <th>7</th>\n",
       "      <td>est</td>\n",
       "      <td>hun</td>\n",
       "      <td>10.62</td>\n",
       "      <td>32.38</td>\n",
       "    </tr>\n",
       "    <tr>\n",
       "      <th>8</th>\n",
       "      <td>est</td>\n",
       "      <td>mkd</td>\n",
       "      <td>10.47</td>\n",
       "      <td>36.07</td>\n",
       "    </tr>\n",
       "    <tr>\n",
       "      <th>9</th>\n",
       "      <td>est</td>\n",
       "      <td>srp</td>\n",
       "      <td>12.61</td>\n",
       "      <td>36.00</td>\n",
       "    </tr>\n",
       "    <tr>\n",
       "      <th>10</th>\n",
       "      <td>hrv</td>\n",
       "      <td>eng</td>\n",
       "      <td>11.94</td>\n",
       "      <td>42.91</td>\n",
       "    </tr>\n",
       "    <tr>\n",
       "      <th>11</th>\n",
       "      <td>hrv</td>\n",
       "      <td>est</td>\n",
       "      <td>9.24</td>\n",
       "      <td>32.40</td>\n",
       "    </tr>\n",
       "    <tr>\n",
       "      <th>12</th>\n",
       "      <td>hrv</td>\n",
       "      <td>hun</td>\n",
       "      <td>9.67</td>\n",
       "      <td>31.93</td>\n",
       "    </tr>\n",
       "    <tr>\n",
       "      <th>13</th>\n",
       "      <td>hrv</td>\n",
       "      <td>mkd</td>\n",
       "      <td>6.96</td>\n",
       "      <td>37.68</td>\n",
       "    </tr>\n",
       "    <tr>\n",
       "      <th>14</th>\n",
       "      <td>hrv</td>\n",
       "      <td>srp</td>\n",
       "      <td>10.10</td>\n",
       "      <td>38.66</td>\n",
       "    </tr>\n",
       "    <tr>\n",
       "      <th>15</th>\n",
       "      <td>hun</td>\n",
       "      <td>eng</td>\n",
       "      <td>13.37</td>\n",
       "      <td>42.00</td>\n",
       "    </tr>\n",
       "    <tr>\n",
       "      <th>16</th>\n",
       "      <td>hun</td>\n",
       "      <td>est</td>\n",
       "      <td>10.49</td>\n",
       "      <td>32.16</td>\n",
       "    </tr>\n",
       "    <tr>\n",
       "      <th>17</th>\n",
       "      <td>hun</td>\n",
       "      <td>hrv</td>\n",
       "      <td>9.05</td>\n",
       "      <td>31.87</td>\n",
       "    </tr>\n",
       "    <tr>\n",
       "      <th>18</th>\n",
       "      <td>hun</td>\n",
       "      <td>mkd</td>\n",
       "      <td>10.27</td>\n",
       "      <td>35.02</td>\n",
       "    </tr>\n",
       "    <tr>\n",
       "      <th>19</th>\n",
       "      <td>hun</td>\n",
       "      <td>srp</td>\n",
       "      <td>12.90</td>\n",
       "      <td>34.03</td>\n",
       "    </tr>\n",
       "    <tr>\n",
       "      <th>20</th>\n",
       "      <td>mkd</td>\n",
       "      <td>eng</td>\n",
       "      <td>14.81</td>\n",
       "      <td>47.72</td>\n",
       "    </tr>\n",
       "    <tr>\n",
       "      <th>21</th>\n",
       "      <td>mkd</td>\n",
       "      <td>est</td>\n",
       "      <td>10.98</td>\n",
       "      <td>32.61</td>\n",
       "    </tr>\n",
       "    <tr>\n",
       "      <th>22</th>\n",
       "      <td>mkd</td>\n",
       "      <td>hrv</td>\n",
       "      <td>8.09</td>\n",
       "      <td>34.72</td>\n",
       "    </tr>\n",
       "    <tr>\n",
       "      <th>23</th>\n",
       "      <td>mkd</td>\n",
       "      <td>hun</td>\n",
       "      <td>11.18</td>\n",
       "      <td>32.09</td>\n",
       "    </tr>\n",
       "    <tr>\n",
       "      <th>24</th>\n",
       "      <td>mkd</td>\n",
       "      <td>srp</td>\n",
       "      <td>13.21</td>\n",
       "      <td>40.46</td>\n",
       "    </tr>\n",
       "    <tr>\n",
       "      <th>25</th>\n",
       "      <td>srp</td>\n",
       "      <td>eng</td>\n",
       "      <td>15.58</td>\n",
       "      <td>49.22</td>\n",
       "    </tr>\n",
       "    <tr>\n",
       "      <th>26</th>\n",
       "      <td>srp</td>\n",
       "      <td>est</td>\n",
       "      <td>10.95</td>\n",
       "      <td>34.47</td>\n",
       "    </tr>\n",
       "    <tr>\n",
       "      <th>27</th>\n",
       "      <td>srp</td>\n",
       "      <td>hrv</td>\n",
       "      <td>6.13</td>\n",
       "      <td>36.40</td>\n",
       "    </tr>\n",
       "    <tr>\n",
       "      <th>28</th>\n",
       "      <td>srp</td>\n",
       "      <td>hun</td>\n",
       "      <td>10.03</td>\n",
       "      <td>31.96</td>\n",
       "    </tr>\n",
       "    <tr>\n",
       "      <th>29</th>\n",
       "      <td>srp</td>\n",
       "      <td>mkd</td>\n",
       "      <td>6.49</td>\n",
       "      <td>41.40</td>\n",
       "    </tr>\n",
       "  </tbody>\n",
       "</table>\n",
       "</div>"
      ],
      "text/plain": [
       "    src  trg  perf   max\n",
       "0   eng  est 12.91 38.69\n",
       "1   eng  hrv 12.54 39.01\n",
       "2   eng  hun 13.31 37.73\n",
       "3   eng  mkd 13.15 44.52\n",
       "4   eng  srp 19.08 46.79\n",
       "5   est  eng 14.17 43.94\n",
       "6   est  hrv  9.27 32.83\n",
       "7   est  hun 10.62 32.38\n",
       "8   est  mkd 10.47 36.07\n",
       "9   est  srp 12.61 36.00\n",
       "10  hrv  eng 11.94 42.91\n",
       "11  hrv  est  9.24 32.40\n",
       "12  hrv  hun  9.67 31.93\n",
       "13  hrv  mkd  6.96 37.68\n",
       "14  hrv  srp 10.10 38.66\n",
       "15  hun  eng 13.37 42.00\n",
       "16  hun  est 10.49 32.16\n",
       "17  hun  hrv  9.05 31.87\n",
       "18  hun  mkd 10.27 35.02\n",
       "19  hun  srp 12.90 34.03\n",
       "20  mkd  eng 14.81 47.72\n",
       "21  mkd  est 10.98 32.61\n",
       "22  mkd  hrv  8.09 34.72\n",
       "23  mkd  hun 11.18 32.09\n",
       "24  mkd  srp 13.21 40.46\n",
       "25  srp  eng 15.58 49.22\n",
       "26  srp  est 10.95 34.47\n",
       "27  srp  hrv  6.13 36.40\n",
       "28  srp  hun 10.03 31.96\n",
       "29  srp  mkd  6.49 41.40"
      ]
     },
     "execution_count": 394,
     "metadata": {},
     "output_type": "execute_result"
    },
    {
     "data": {
      "image/png": "[encoded data removed]",
      "text/plain": [
       "<Figure size 360x288 with 1 Axes>"
      ]
     },
     "metadata": {
      "needs_background": "light"
     },
     "output_type": "display_data"
    },
    {
     "data": {
      "image/png": "[encoded data removed]",
      "text/plain": [
       "<Figure size 576x216 with 1 Axes>"
      ]
     },
     "metadata": {
      "needs_background": "light"
     },
     "output_type": "display_data"
    },
    {
     "data": {
      "image/png": "[encoded data removed]",
      "text/plain": [
       "<Figure size 576x216 with 1 Axes>"
      ]
     },
     "metadata": {
      "needs_background": "light"
     },
     "output_type": "display_data"
    },
    {
     "data": {
      "image/png": "[encoded data removed]",
      "text/plain": [
       "<Figure size 576x216 with 1 Axes>"
      ]
     },
     "metadata": {
      "needs_background": "light"
     },
     "output_type": "display_data"
    },
    {
     "data": {
      "image/png": "[encoded data removed]",
      "text/plain": [
       "<Figure size 576x216 with 1 Axes>"
      ]
     },
     "metadata": {
      "needs_background": "light"
     },
     "output_type": "display_data"
    }
   ],
   "source": [
    "\n",
    "analyze_task(\"small1\")"
   ]
  },
  {
   "cell_type": "code",
   "execution_count": 395,
   "id": "photographic-assignment",
   "metadata": {},
   "outputs": [
    {
     "name": "stdout",
     "output_type": "stream",
     "text": [
      "***Analysis of language pairs deltas***\n",
      "TOP 5 improvements wrt to baseline\n",
      "    src  trg  perf   max\n",
      "3   eng  tam 31.15 34.96\n",
      "20  tam  eng 30.86 35.73\n",
      "25  tgl  eng 30.50 49.78\n",
      "4   eng  tgl 28.45 39.05\n",
      "8   ind  tam 27.97 29.02\n",
      "\\begin{tabular}{llrr}\n",
      "\\toprule\n",
      "src & trg &  perf &   max \\\\\n",
      "\\midrule\n",
      "eng & tam & 31.15 & 34.96 \\\\\n",
      "tam & eng & 30.86 & 35.73 \\\\\n",
      "tgl & eng & 30.50 & 49.78 \\\\\n",
      "eng & tgl & 28.45 & 39.05 \\\\\n",
      "ind & tam & 27.97 & 29.02 \\\\\n",
      "\\bottomrule\n",
      "\\end{tabular}\n",
      "\n",
      "BOTTOM 5 improvements wrt to baseline\n",
      "    src  trg  perf   max\n",
      "27  tgl  jav 15.63 23.86\n",
      "17  msa  jav 13.68 23.62\n",
      "6   ind  jav 12.44 24.05\n",
      "7   ind  msa 12.34 38.95\n",
      "16  msa  ind 10.97 39.68\n",
      "\\begin{tabular}{llrr}\n",
      "\\toprule\n",
      "src & trg &  perf &   max \\\\\n",
      "\\midrule\n",
      "tgl & jav & 15.63 & 23.86 \\\\\n",
      "msa & jav & 13.68 & 23.62 \\\\\n",
      "ind & jav & 12.44 & 24.05 \\\\\n",
      "ind & msa & 12.34 & 38.95 \\\\\n",
      "msa & ind & 10.97 & 39.68 \\\\\n",
      "\\bottomrule\n",
      "\\end{tabular}\n",
      "\n",
      "GAP between top and bottom by pair: 20.180000000000003\n",
      "AVG improv 21.89966666666667\n",
      "AVG improv into ENG 25.484\n",
      "***Analysis per of averages source language***\n",
      "TOP 5 improvements wrt to baseline\n",
      "     perf   max\n",
      "src            \n",
      "tam 24.49 27.66\n",
      "eng 24.12 39.92\n",
      "tgl 23.54 35.45\n",
      "jav 20.82 32.57\n",
      "ind 19.39 34.27\n",
      "\\begin{tabular}{lrr}\n",
      "\\toprule\n",
      "{} &  perf &   max \\\\\n",
      "src &       &       \\\\\n",
      "\\midrule\n",
      "tam & 24.49 & 27.66 \\\\\n",
      "eng & 24.12 & 39.92 \\\\\n",
      "tgl & 23.54 & 35.45 \\\\\n",
      "jav & 20.82 & 32.57 \\\\\n",
      "ind & 19.39 & 34.27 \\\\\n",
      "\\bottomrule\n",
      "\\end{tabular}\n",
      "\n",
      "BOTTOM 5 improvements wrt to baseline\n",
      "     perf   max\n",
      "src            \n",
      "eng 24.12 39.92\n",
      "tgl 23.54 35.45\n",
      "jav 20.82 32.57\n",
      "ind 19.39 34.27\n",
      "msa 19.03 34.50\n",
      "\\begin{tabular}{lrr}\n",
      "\\toprule\n",
      "{} &  perf &   max \\\\\n",
      "src &       &       \\\\\n",
      "\\midrule\n",
      "eng & 24.12 & 39.92 \\\\\n",
      "tgl & 23.54 & 35.45 \\\\\n",
      "jav & 20.82 & 32.57 \\\\\n",
      "ind & 19.39 & 34.27 \\\\\n",
      "msa & 19.03 & 34.50 \\\\\n",
      "\\bottomrule\n",
      "\\end{tabular}\n",
      "\n",
      "GAP between top and bottom by source: 5.460000000000001\n",
      "Analysis of averages per target language\n",
      "TOP 5 improvements wrt to baseline\n",
      "     perf   max\n",
      "trg            \n",
      "tam 26.59 29.16\n",
      "eng 25.48 44.26\n",
      "tgl 24.18 31.78\n",
      "msa 20.18 37.14\n",
      "ind 19.21 38.25\n",
      "\\begin{tabular}{lrr}\n",
      "\\toprule\n",
      "{} &  perf &   max \\\\\n",
      "trg &       &       \\\\\n",
      "\\midrule\n",
      "tam & 26.59 & 29.16 \\\\\n",
      "eng & 25.48 & 44.26 \\\\\n",
      "tgl & 24.18 & 31.78 \\\\\n",
      "msa & 20.18 & 37.14 \\\\\n",
      "ind & 19.21 & 38.25 \\\\\n",
      "\\bottomrule\n",
      "\\end{tabular}\n",
      "\n",
      "BOTTOM 5 improvements wrt to baseline\n",
      "     perf   max\n",
      "trg            \n",
      "eng 25.48 44.26\n",
      "tgl 24.18 31.78\n",
      "msa 20.18 37.14\n",
      "ind 19.21 38.25\n",
      "jav 15.76 23.77\n",
      "\\begin{tabular}{lrr}\n",
      "\\toprule\n",
      "{} &  perf &   max \\\\\n",
      "trg &       &       \\\\\n",
      "\\midrule\n",
      "eng & 25.48 & 44.26 \\\\\n",
      "tgl & 24.18 & 31.78 \\\\\n",
      "msa & 20.18 & 37.14 \\\\\n",
      "ind & 19.21 & 38.25 \\\\\n",
      "jav & 15.76 & 23.77 \\\\\n",
      "\\bottomrule\n",
      "\\end{tabular}\n",
      "\n",
      "GAP between top and bottom by trg: 10.832\n",
      "(0.0, 28.29057)\n",
      "(0.0, 30.70914)\n"
     ]
    },
    {
     "data": {
      "text/html": [
       "<div>\n",
       "<style scoped>\n",
       "    .dataframe tbody tr th:only-of-type {\n",
       "        vertical-align: middle;\n",
       "    }\n",
       "\n",
       "    .dataframe tbody tr th {\n",
       "        vertical-align: top;\n",
       "    }\n",
       "\n",
       "    .dataframe thead th {\n",
       "        text-align: right;\n",
       "    }\n",
       "</style>\n",
       "<table border=\"1\" class=\"dataframe\">\n",
       "  <thead>\n",
       "    <tr style=\"text-align: right;\">\n",
       "      <th></th>\n",
       "      <th>src</th>\n",
       "      <th>trg</th>\n",
       "      <th>perf</th>\n",
       "      <th>max</th>\n",
       "    </tr>\n",
       "  </thead>\n",
       "  <tbody>\n",
       "    <tr>\n",
       "      <th>0</th>\n",
       "      <td>eng</td>\n",
       "      <td>ind</td>\n",
       "      <td>20.41</td>\n",
       "      <td>49.23</td>\n",
       "    </tr>\n",
       "    <tr>\n",
       "      <th>1</th>\n",
       "      <td>eng</td>\n",
       "      <td>jav</td>\n",
       "      <td>18.99</td>\n",
       "      <td>28.42</td>\n",
       "    </tr>\n",
       "    <tr>\n",
       "      <th>2</th>\n",
       "      <td>eng</td>\n",
       "      <td>msa</td>\n",
       "      <td>21.60</td>\n",
       "      <td>47.92</td>\n",
       "    </tr>\n",
       "    <tr>\n",
       "      <th>3</th>\n",
       "      <td>eng</td>\n",
       "      <td>tam</td>\n",
       "      <td>31.15</td>\n",
       "      <td>34.96</td>\n",
       "    </tr>\n",
       "    <tr>\n",
       "      <th>4</th>\n",
       "      <td>eng</td>\n",
       "      <td>tgl</td>\n",
       "      <td>28.45</td>\n",
       "      <td>39.05</td>\n",
       "    </tr>\n",
       "    <tr>\n",
       "      <th>5</th>\n",
       "      <td>ind</td>\n",
       "      <td>eng</td>\n",
       "      <td>19.47</td>\n",
       "      <td>46.95</td>\n",
       "    </tr>\n",
       "    <tr>\n",
       "      <th>6</th>\n",
       "      <td>ind</td>\n",
       "      <td>jav</td>\n",
       "      <td>12.44</td>\n",
       "      <td>24.05</td>\n",
       "    </tr>\n",
       "    <tr>\n",
       "      <th>7</th>\n",
       "      <td>ind</td>\n",
       "      <td>msa</td>\n",
       "      <td>12.34</td>\n",
       "      <td>38.95</td>\n",
       "    </tr>\n",
       "    <tr>\n",
       "      <th>8</th>\n",
       "      <td>ind</td>\n",
       "      <td>tam</td>\n",
       "      <td>27.97</td>\n",
       "      <td>29.02</td>\n",
       "    </tr>\n",
       "    <tr>\n",
       "      <th>9</th>\n",
       "      <td>ind</td>\n",
       "      <td>tgl</td>\n",
       "      <td>24.74</td>\n",
       "      <td>32.36</td>\n",
       "    </tr>\n",
       "    <tr>\n",
       "      <th>10</th>\n",
       "      <td>jav</td>\n",
       "      <td>eng</td>\n",
       "      <td>24.96</td>\n",
       "      <td>40.15</td>\n",
       "    </tr>\n",
       "    <tr>\n",
       "      <th>11</th>\n",
       "      <td>jav</td>\n",
       "      <td>ind</td>\n",
       "      <td>17.10</td>\n",
       "      <td>35.07</td>\n",
       "    </tr>\n",
       "    <tr>\n",
       "      <th>12</th>\n",
       "      <td>jav</td>\n",
       "      <td>msa</td>\n",
       "      <td>19.22</td>\n",
       "      <td>33.90</td>\n",
       "    </tr>\n",
       "    <tr>\n",
       "      <th>13</th>\n",
       "      <td>jav</td>\n",
       "      <td>tam</td>\n",
       "      <td>22.10</td>\n",
       "      <td>24.76</td>\n",
       "    </tr>\n",
       "    <tr>\n",
       "      <th>14</th>\n",
       "      <td>jav</td>\n",
       "      <td>tgl</td>\n",
       "      <td>20.70</td>\n",
       "      <td>28.99</td>\n",
       "    </tr>\n",
       "    <tr>\n",
       "      <th>15</th>\n",
       "      <td>msa</td>\n",
       "      <td>eng</td>\n",
       "      <td>21.63</td>\n",
       "      <td>48.69</td>\n",
       "    </tr>\n",
       "    <tr>\n",
       "      <th>16</th>\n",
       "      <td>msa</td>\n",
       "      <td>ind</td>\n",
       "      <td>10.97</td>\n",
       "      <td>39.68</td>\n",
       "    </tr>\n",
       "    <tr>\n",
       "      <th>17</th>\n",
       "      <td>msa</td>\n",
       "      <td>jav</td>\n",
       "      <td>13.68</td>\n",
       "      <td>23.62</td>\n",
       "    </tr>\n",
       "    <tr>\n",
       "      <th>18</th>\n",
       "      <td>msa</td>\n",
       "      <td>tam</td>\n",
       "      <td>25.69</td>\n",
       "      <td>28.43</td>\n",
       "    </tr>\n",
       "    <tr>\n",
       "      <th>19</th>\n",
       "      <td>msa</td>\n",
       "      <td>tgl</td>\n",
       "      <td>23.20</td>\n",
       "      <td>32.07</td>\n",
       "    </tr>\n",
       "    <tr>\n",
       "      <th>20</th>\n",
       "      <td>tam</td>\n",
       "      <td>eng</td>\n",
       "      <td>30.86</td>\n",
       "      <td>35.73</td>\n",
       "    </tr>\n",
       "    <tr>\n",
       "      <th>21</th>\n",
       "      <td>tam</td>\n",
       "      <td>ind</td>\n",
       "      <td>25.08</td>\n",
       "      <td>28.91</td>\n",
       "    </tr>\n",
       "    <tr>\n",
       "      <th>22</th>\n",
       "      <td>tam</td>\n",
       "      <td>jav</td>\n",
       "      <td>18.04</td>\n",
       "      <td>18.89</td>\n",
       "    </tr>\n",
       "    <tr>\n",
       "      <th>23</th>\n",
       "      <td>tam</td>\n",
       "      <td>msa</td>\n",
       "      <td>24.68</td>\n",
       "      <td>28.32</td>\n",
       "    </tr>\n",
       "    <tr>\n",
       "      <th>24</th>\n",
       "      <td>tam</td>\n",
       "      <td>tgl</td>\n",
       "      <td>23.81</td>\n",
       "      <td>26.43</td>\n",
       "    </tr>\n",
       "    <tr>\n",
       "      <th>25</th>\n",
       "      <td>tgl</td>\n",
       "      <td>eng</td>\n",
       "      <td>30.50</td>\n",
       "      <td>49.78</td>\n",
       "    </tr>\n",
       "    <tr>\n",
       "      <th>26</th>\n",
       "      <td>tgl</td>\n",
       "      <td>ind</td>\n",
       "      <td>22.47</td>\n",
       "      <td>38.37</td>\n",
       "    </tr>\n",
       "    <tr>\n",
       "      <th>27</th>\n",
       "      <td>tgl</td>\n",
       "      <td>jav</td>\n",
       "      <td>15.63</td>\n",
       "      <td>23.86</td>\n",
       "    </tr>\n",
       "    <tr>\n",
       "      <th>28</th>\n",
       "      <td>tgl</td>\n",
       "      <td>msa</td>\n",
       "      <td>23.08</td>\n",
       "      <td>36.61</td>\n",
       "    </tr>\n",
       "    <tr>\n",
       "      <th>29</th>\n",
       "      <td>tgl</td>\n",
       "      <td>tam</td>\n",
       "      <td>26.03</td>\n",
       "      <td>28.64</td>\n",
       "    </tr>\n",
       "  </tbody>\n",
       "</table>\n",
       "</div>"
      ],
      "text/plain": [
       "    src  trg  perf   max\n",
       "0   eng  ind 20.41 49.23\n",
       "1   eng  jav 18.99 28.42\n",
       "2   eng  msa 21.60 47.92\n",
       "3   eng  tam 31.15 34.96\n",
       "4   eng  tgl 28.45 39.05\n",
       "5   ind  eng 19.47 46.95\n",
       "6   ind  jav 12.44 24.05\n",
       "7   ind  msa 12.34 38.95\n",
       "8   ind  tam 27.97 29.02\n",
       "9   ind  tgl 24.74 32.36\n",
       "10  jav  eng 24.96 40.15\n",
       "11  jav  ind 17.10 35.07\n",
       "12  jav  msa 19.22 33.90\n",
       "13  jav  tam 22.10 24.76\n",
       "14  jav  tgl 20.70 28.99\n",
       "15  msa  eng 21.63 48.69\n",
       "16  msa  ind 10.97 39.68\n",
       "17  msa  jav 13.68 23.62\n",
       "18  msa  tam 25.69 28.43\n",
       "19  msa  tgl 23.20 32.07\n",
       "20  tam  eng 30.86 35.73\n",
       "21  tam  ind 25.08 28.91\n",
       "22  tam  jav 18.04 18.89\n",
       "23  tam  msa 24.68 28.32\n",
       "24  tam  tgl 23.81 26.43\n",
       "25  tgl  eng 30.50 49.78\n",
       "26  tgl  ind 22.47 38.37\n",
       "27  tgl  jav 15.63 23.86\n",
       "28  tgl  msa 23.08 36.61\n",
       "29  tgl  tam 26.03 28.64"
      ]
     },
     "execution_count": 395,
     "metadata": {},
     "output_type": "execute_result"
    },
    {
     "data": {
      "image/png": "[encoded data removed]",
      "text/plain": [
       "<Figure size 360x288 with 1 Axes>"
      ]
     },
     "metadata": {
      "needs_background": "light"
     },
     "output_type": "display_data"
    },
    {
     "data": {
      "image/png": "[encoded data removed]",
      "text/plain": [
       "<Figure size 576x216 with 1 Axes>"
      ]
     },
     "metadata": {
      "needs_background": "light"
     },
     "output_type": "display_data"
    },
    {
     "data": {
      "image/png": "[encoded data removed]",
      "text/plain": [
       "<Figure size 576x216 with 1 Axes>"
      ]
     },
     "metadata": {
      "needs_background": "light"
     },
     "output_type": "display_data"
    },
    {
     "data": {
      "image/png": "[encoded data removed]",
      "text/plain": [
       "<Figure size 576x216 with 1 Axes>"
      ]
     },
     "metadata": {
      "needs_background": "light"
     },
     "output_type": "display_data"
    },
    {
     "data": {
      "image/png": "[encoded data removed]",
      "text/plain": [
       "<Figure size 576x216 with 1 Axes>"
      ]
     },
     "metadata": {
      "needs_background": "light"
     },
     "output_type": "display_data"
    }
   ],
   "source": [
    "# task2 task\n",
    "analyze_task(\"small2\")"
   ]
  },
  {
   "cell_type": "code",
   "execution_count": 498,
   "id": "closed-anthropology",
   "metadata": {},
   "outputs": [],
   "source": [
    "\n",
    "    \n",
    "def contrast_mm(data, task='small1', bycol='src'):\n",
    "    longdesc={\"src\": \"Source\", \"trg\": \"Target\"}\n",
    "    fig_width = {\"full\": 21, \"small1\":12, \"small2\": 12}\n",
    "    comparison=data[(data.mid.isin(winners['full']+winners[task]) ) & (data.src.isin(languages[task]) ) & (data.trg.isin(languages[task]) )]\n",
    "    #sorted_data= comparison.groupby(bycol).perf.mean().sort_index(ascending=True)\n",
    "    \n",
    "    delta=(comparison[comparison.taskname==\"full\"].groupby([\"src\",\"trg\"]).perf.mean() - comparison[comparison.taskname==task].groupby([\"src\",\"trg\"]).perf.mean()).reset_index()\n",
    "\n",
    "    fig, (ax1, ax2) = plt.subplots(figsize = (fig_width[task],3), nrows=1, ncols=2, gridspec_kw={'width_ratios': [2, 5]})    \n",
    "    \n",
    "    sns.kdeplot(data=delta,x=\"perf\", hue=bycol, ax=ax1) \n",
    "    ax1.set(xlabel=f'delta in spBLEU by {longdesc[bycol].lower()} language', ylabel='density')\n",
    "    plt.legend(title='Languages')\n",
    "    \n",
    "    print((comparison[comparison.taskname==\"full\"].groupby([bycol]).perf.mean() - comparison[comparison.taskname==task].groupby(bycol).perf.mean()).reset_index())\n",
    "    print(delta.groupby(bycol).perf.mean())\n",
    "    print(delta.groupby(bycol).perf.mean().reset_index().describe())\n",
    "\n",
    "    sns.barplot(data=comparison, x=bycol, y=\"perf\", hue=\"taskname\", ci=None, palette=\"crest\", ax=ax2)\n",
    "    #ax.set_xticklabels(labels=sorted_data.index, rotation=90, ha='right')\n",
    "\n",
    "    ax2.set(xlabel=f'{longdesc[bycol]} language', ylabel='Best model spBLEU')\n",
    "    \n",
    "\n",
    "    add_bar_labels(ax2)\n",
    "    \n",
    "    plt.legend(title='Shared Task', loc=\"lower right\")\n",
    "    plt.savefig(f\"imgs/analysis_full_vs_{task}_contrast_by_{bycol}.pdf\",bbox_inches='tight')\n",
    "\n",
    "def analyze_contrast(task):\n",
    "    contrast_mm(df,task, \"src\")\n",
    "    contrast_mm(df,task, \"trg\")\n",
    "    "
   ]
  },
  {
   "cell_type": "code",
   "execution_count": 499,
   "id": "beautiful-yeast",
   "metadata": {},
   "outputs": [
    {
     "name": "stderr",
     "output_type": "stream",
     "text": [
      "No handles with labels found to put in legend.\n"
     ]
    },
    {
     "name": "stdout",
     "output_type": "stream",
     "text": [
      "   src  perf\n",
      "0  eng -4.55\n",
      "1  est -4.96\n",
      "2  hrv -4.34\n",
      "3  hun -4.94\n",
      "4  mkd -4.86\n",
      "5  srp -4.85\n",
      "src\n",
      "eng   -4.55\n",
      "est   -4.96\n",
      "hrv   -4.34\n",
      "hun   -4.94\n",
      "mkd   -4.86\n",
      "srp   -4.85\n",
      "Name: perf, dtype: float64\n",
      "       perf\n",
      "count  6.00\n",
      "mean  -4.75\n",
      "std    0.25\n",
      "min   -4.96\n",
      "25%   -4.92\n",
      "50%   -4.86\n",
      "75%   -4.62\n",
      "max   -4.34\n",
      "(0.0, 47.75694)\n"
     ]
    },
    {
     "name": "stderr",
     "output_type": "stream",
     "text": [
      "No handles with labels found to put in legend.\n"
     ]
    },
    {
     "name": "stdout",
     "output_type": "stream",
     "text": [
      "   trg  perf\n",
      "0  eng -2.71\n",
      "1  est -5.61\n",
      "2  hrv -3.25\n",
      "3  hun -5.43\n",
      "4  mkd -4.68\n",
      "5  srp -6.80\n",
      "trg\n",
      "eng   -2.71\n",
      "est   -5.61\n",
      "hrv   -3.25\n",
      "hun   -5.43\n",
      "mkd   -4.68\n",
      "srp   -6.80\n",
      "Name: perf, dtype: float64\n",
      "       perf\n",
      "count  6.00\n",
      "mean  -4.75\n",
      "std    1.54\n",
      "min   -6.80\n",
      "25%   -5.57\n",
      "50%   -5.06\n",
      "75%   -3.61\n",
      "max   -2.71\n",
      "(0.0, 52.15749)\n"
     ]
    },
    {
     "data": {
      "image/png": "[encoded data removed]",
      "text/plain": [
       "<Figure size 864x216 with 2 Axes>"
      ]
     },
     "metadata": {
      "needs_background": "light"
     },
     "output_type": "display_data"
    },
    {
     "data": {
      "image/png": "[encoded data removed]",
      "text/plain": [
       "<Figure size 864x216 with 2 Axes>"
      ]
     },
     "metadata": {
      "needs_background": "light"
     },
     "output_type": "display_data"
    }
   ],
   "source": [
    "\n",
    "analyze_contrast(\"small1\")"
   ]
  },
  {
   "cell_type": "code",
   "execution_count": 500,
   "id": "detected-blackberry",
   "metadata": {},
   "outputs": [
    {
     "data": {
      "text/html": [
       "<div>\n",
       "<style scoped>\n",
       "    .dataframe tbody tr th:only-of-type {\n",
       "        vertical-align: middle;\n",
       "    }\n",
       "\n",
       "    .dataframe tbody tr th {\n",
       "        vertical-align: top;\n",
       "    }\n",
       "\n",
       "    .dataframe thead th {\n",
       "        text-align: right;\n",
       "    }\n",
       "</style>\n",
       "<table border=\"1\" class=\"dataframe\">\n",
       "  <thead>\n",
       "    <tr style=\"text-align: right;\">\n",
       "      <th></th>\n",
       "      <th>ISO 639-3</th>\n",
       "      <th>Language</th>\n",
       "      <th>Family</th>\n",
       "      <th>Subgrouping</th>\n",
       "      <th>Script</th>\n",
       "      <th>Bitext w/ En</th>\n",
       "      <th>Mono Data</th>\n",
       "    </tr>\n",
       "  </thead>\n",
       "  <tbody>\n",
       "    <tr>\n",
       "      <th>16</th>\n",
       "      <td>hrv</td>\n",
       "      <td>Croatian</td>\n",
       "      <td>Indo-European</td>\n",
       "      <td>Balto-Slavic</td>\n",
       "      <td>Latin</td>\n",
       "      <td>42200.00</td>\n",
       "      <td>144000000.00</td>\n",
       "    </tr>\n",
       "    <tr>\n",
       "      <th>20</th>\n",
       "      <td>eng</td>\n",
       "      <td>English</td>\n",
       "      <td>Indo-European</td>\n",
       "      <td>Germanic</td>\n",
       "      <td>Latin</td>\n",
       "      <td>0.00</td>\n",
       "      <td>0.00</td>\n",
       "    </tr>\n",
       "    <tr>\n",
       "      <th>21</th>\n",
       "      <td>est</td>\n",
       "      <td>Estonian</td>\n",
       "      <td>Uralic</td>\n",
       "      <td>Uralic</td>\n",
       "      <td>Latin</td>\n",
       "      <td>4820000.00</td>\n",
       "      <td>46000000.00</td>\n",
       "    </tr>\n",
       "    <tr>\n",
       "      <th>35</th>\n",
       "      <td>hun</td>\n",
       "      <td>Hungarian</td>\n",
       "      <td>Uralic</td>\n",
       "      <td>Uralic</td>\n",
       "      <td>Latin</td>\n",
       "      <td>16300000.00</td>\n",
       "      <td>385000000.00</td>\n",
       "    </tr>\n",
       "    <tr>\n",
       "      <th>56</th>\n",
       "      <td>mkd</td>\n",
       "      <td>Macedonian</td>\n",
       "      <td>Indo-European</td>\n",
       "      <td>Balto-Slavic</td>\n",
       "      <td>Cyrillic</td>\n",
       "      <td>1130000.00</td>\n",
       "      <td>28800000.00</td>\n",
       "    </tr>\n",
       "    <tr>\n",
       "      <th>77</th>\n",
       "      <td>srp</td>\n",
       "      <td>Serbian</td>\n",
       "      <td>Indo-European</td>\n",
       "      <td>Balto-Slavic</td>\n",
       "      <td>Cyrillic</td>\n",
       "      <td>7010000.00</td>\n",
       "      <td>35700000.00</td>\n",
       "    </tr>\n",
       "  </tbody>\n",
       "</table>\n",
       "</div>"
      ],
      "text/plain": [
       "   ISO 639-3    Language         Family   Subgrouping    Script  Bitext w/ En  \\\n",
       "16       hrv    Croatian  Indo-European  Balto-Slavic     Latin      42200.00   \n",
       "20       eng     English  Indo-European      Germanic     Latin          0.00   \n",
       "21       est    Estonian         Uralic        Uralic     Latin    4820000.00   \n",
       "35       hun   Hungarian         Uralic        Uralic     Latin   16300000.00   \n",
       "56       mkd  Macedonian  Indo-European  Balto-Slavic  Cyrillic    1130000.00   \n",
       "77       srp     Serbian  Indo-European  Balto-Slavic  Cyrillic    7010000.00   \n",
       "\n",
       "      Mono Data  \n",
       "16 144000000.00  \n",
       "20         0.00  \n",
       "21  46000000.00  \n",
       "35 385000000.00  \n",
       "56  28800000.00  \n",
       "77  35700000.00  "
      ]
     },
     "execution_count": 500,
     "metadata": {},
     "output_type": "execute_result"
    }
   ],
   "source": [
    "langnames[langnames[\"ISO 639-3\"].isin(languages[\"small1\"])]"
   ]
  },
  {
   "cell_type": "code",
   "execution_count": 501,
   "id": "dimensional-memorial",
   "metadata": {},
   "outputs": [
    {
     "name": "stderr",
     "output_type": "stream",
     "text": [
      "No handles with labels found to put in legend.\n"
     ]
    },
    {
     "name": "stdout",
     "output_type": "stream",
     "text": [
      "   src  perf\n",
      "0  eng -4.37\n",
      "1  ind -2.97\n",
      "2  jav -5.97\n",
      "3  msa -4.48\n",
      "4  tam -3.96\n",
      "5  tgl -3.78\n",
      "src\n",
      "eng   -4.37\n",
      "ind   -2.97\n",
      "jav   -5.97\n",
      "msa   -4.48\n",
      "tam   -3.96\n",
      "tgl   -3.78\n",
      "Name: perf, dtype: float64\n",
      "       perf\n",
      "count  6.00\n",
      "mean  -4.26\n",
      "std    1.00\n",
      "min   -5.97\n",
      "25%   -4.46\n",
      "50%   -4.16\n",
      "75%   -3.82\n",
      "max   -2.97\n",
      "(0.0, 46.10298)\n"
     ]
    },
    {
     "name": "stderr",
     "output_type": "stream",
     "text": [
      "No handles with labels found to put in legend.\n"
     ]
    },
    {
     "name": "stdout",
     "output_type": "stream",
     "text": [
      "   trg  perf\n",
      "0  eng -2.04\n",
      "1  ind -4.19\n",
      "2  jav -7.26\n",
      "3  msa -2.55\n",
      "4  tam -6.72\n",
      "5  tgl -2.77\n",
      "trg\n",
      "eng   -2.04\n",
      "ind   -4.19\n",
      "jav   -7.26\n",
      "msa   -2.55\n",
      "tam   -6.72\n",
      "tgl   -2.77\n",
      "Name: perf, dtype: float64\n",
      "       perf\n",
      "count  6.00\n",
      "mean  -4.26\n",
      "std    2.24\n",
      "min   -7.26\n",
      "25%   -6.09\n",
      "50%   -3.48\n",
      "75%   -2.61\n",
      "max   -2.04\n",
      "(0.0, 51.06486000000001)\n"
     ]
    },
    {
     "data": {
      "image/png": "[encoded data removed]",
      "text/plain": [
       "<Figure size 864x216 with 2 Axes>"
      ]
     },
     "metadata": {
      "needs_background": "light"
     },
     "output_type": "display_data"
    },
    {
     "data": {
      "image/png": "[encoded data removed]",
      "text/plain": [
       "<Figure size 864x216 with 2 Axes>"
      ]
     },
     "metadata": {
      "needs_background": "light"
     },
     "output_type": "display_data"
    }
   ],
   "source": [
    "analyze_contrast(\"small2\")"
   ]
  },
  {
   "cell_type": "code",
   "execution_count": 502,
   "id": "worthy-examination",
   "metadata": {},
   "outputs": [
    {
     "data": {
      "text/html": [
       "<div>\n",
       "<style scoped>\n",
       "    .dataframe tbody tr th:only-of-type {\n",
       "        vertical-align: middle;\n",
       "    }\n",
       "\n",
       "    .dataframe tbody tr th {\n",
       "        vertical-align: top;\n",
       "    }\n",
       "\n",
       "    .dataframe thead th {\n",
       "        text-align: right;\n",
       "    }\n",
       "</style>\n",
       "<table border=\"1\" class=\"dataframe\">\n",
       "  <thead>\n",
       "    <tr style=\"text-align: right;\">\n",
       "      <th></th>\n",
       "      <th>ISO 639-3</th>\n",
       "      <th>Language</th>\n",
       "      <th>Family</th>\n",
       "      <th>Subgrouping</th>\n",
       "      <th>Script</th>\n",
       "      <th>Bitext w/ En</th>\n",
       "      <th>Mono Data</th>\n",
       "    </tr>\n",
       "  </thead>\n",
       "  <tbody>\n",
       "    <tr>\n",
       "      <th>20</th>\n",
       "      <td>eng</td>\n",
       "      <td>English</td>\n",
       "      <td>Indo-European</td>\n",
       "      <td>Germanic</td>\n",
       "      <td>Latin</td>\n",
       "      <td>0.00</td>\n",
       "      <td>0.00</td>\n",
       "    </tr>\n",
       "    <tr>\n",
       "      <th>22</th>\n",
       "      <td>tgl</td>\n",
       "      <td>Filipino  (Tagalog)</td>\n",
       "      <td>Austronesian</td>\n",
       "      <td>Austronesian</td>\n",
       "      <td>Latin</td>\n",
       "      <td>70600.00</td>\n",
       "      <td>107000000.00</td>\n",
       "    </tr>\n",
       "    <tr>\n",
       "      <th>38</th>\n",
       "      <td>ind</td>\n",
       "      <td>Indonesian</td>\n",
       "      <td>Austronesian</td>\n",
       "      <td>Austronesian</td>\n",
       "      <td>Latin</td>\n",
       "      <td>39100000.00</td>\n",
       "      <td>1050000000.00</td>\n",
       "    </tr>\n",
       "    <tr>\n",
       "      <th>42</th>\n",
       "      <td>jav</td>\n",
       "      <td>Javanese</td>\n",
       "      <td>Austronesian</td>\n",
       "      <td>Austronesian</td>\n",
       "      <td>Latin</td>\n",
       "      <td>1490000.00</td>\n",
       "      <td>24400000.00</td>\n",
       "    </tr>\n",
       "    <tr>\n",
       "      <th>57</th>\n",
       "      <td>msa</td>\n",
       "      <td>Malay</td>\n",
       "      <td>Austronesian</td>\n",
       "      <td>Austronesian</td>\n",
       "      <td>Latin</td>\n",
       "      <td>968000.00</td>\n",
       "      <td>77500000.00</td>\n",
       "    </tr>\n",
       "    <tr>\n",
       "      <th>88</th>\n",
       "      <td>tam</td>\n",
       "      <td>Tamil</td>\n",
       "      <td>Dravidian</td>\n",
       "      <td>Dravidian</td>\n",
       "      <td>Tamil</td>\n",
       "      <td>992000.00</td>\n",
       "      <td>68200000.00</td>\n",
       "    </tr>\n",
       "  </tbody>\n",
       "</table>\n",
       "</div>"
      ],
      "text/plain": [
       "   ISO 639-3             Language         Family   Subgrouping Script  \\\n",
       "20       eng              English  Indo-European      Germanic  Latin   \n",
       "22       tgl  Filipino  (Tagalog)   Austronesian  Austronesian  Latin   \n",
       "38       ind           Indonesian   Austronesian  Austronesian  Latin   \n",
       "42       jav             Javanese   Austronesian  Austronesian  Latin   \n",
       "57       msa                Malay   Austronesian  Austronesian  Latin   \n",
       "88       tam                Tamil      Dravidian     Dravidian  Tamil   \n",
       "\n",
       "    Bitext w/ En     Mono Data  \n",
       "20          0.00          0.00  \n",
       "22      70600.00  107000000.00  \n",
       "38   39100000.00 1050000000.00  \n",
       "42    1490000.00   24400000.00  \n",
       "57     968000.00   77500000.00  \n",
       "88     992000.00   68200000.00  "
      ]
     },
     "execution_count": 502,
     "metadata": {},
     "output_type": "execute_result"
    }
   ],
   "source": [
    "langnames[langnames[\"ISO 639-3\"].isin(languages[\"small2\"])]"
   ]
  },
  {
   "cell_type": "code",
   "execution_count": null,
   "id": "pretty-burning",
   "metadata": {},
   "outputs": [],
   "source": []
  }
 ],
 "metadata": {
  "kernelspec": {
   "display_name": "Python 3",
   "language": "python",
   "name": "python3"
  },
  "language_info": {
   "codemirror_mode": {
    "name": "ipython",
    "version": 3
   },
   "file_extension": ".py",
   "mimetype": "text/x-python",
   "name": "python",
   "nbconvert_exporter": "python",
   "pygments_lexer": "ipython3",
   "version": "3.9.1"
  }
 },
 "nbformat": 4,
 "nbformat_minor": 5
}
